{
 "cells": [
  {
   "cell_type": "markdown",
   "metadata": {},
   "source": [
    "# Python 3 crash course"
   ]
  },
  {
   "cell_type": "markdown",
   "metadata": {},
   "source": [
    "A crash course in Python.  Really, a collection of things to get you up and running in Python.\n",
    "\n",
    "If you've made it this far, you have Python installed.  Where to begin.  How about numbers?\n",
    "\n",
    "Oh, important note.  To run a cell, if it's selected, you can hit the \"play-advance\" button up above.  On a PC, either ctrl + enter or shift + enter will execute the code in a cell.  On a mac, I think it's the same, but maybe command + enter."
   ]
  },
  {
   "cell_type": "markdown",
   "metadata": {},
   "source": [
    "# Table of contents <a name=\"TOC\"></a>\n",
    "1. [Numbers](#numbers)\n",
    "2. [Variables](#variables)\n",
    "3. [If-statements](#if-statements)\n",
    "4. [Functions](#functions)\n",
    "5. [print( )](#print)\n",
    "6. [Strings](#strings)\n",
    "7. [Slicing](#slicing)\n",
    "8. [Addition/Formatting](#formatting)\n",
    "9. [Lists](#lists)\n",
    "10. [Types](#types)\n",
    "11. [Exercises](#exercises)\n"
   ]
  },
  {
   "cell_type": "markdown",
   "metadata": {},
   "source": [
    "## [Numbers](#TOC) <a name=\"numbers\"></a>"
   ]
  },
  {
   "cell_type": "markdown",
   "metadata": {},
   "source": [
    "Integers are relatively straight forward.  Add subtract, multiply, and divide.  Exponentiation?"
   ]
  },
  {
   "cell_type": "code",
   "execution_count": null,
   "metadata": {},
   "outputs": [],
   "source": [
    "2 + 3"
   ]
  },
  {
   "cell_type": "code",
   "execution_count": null,
   "metadata": {},
   "outputs": [],
   "source": [
    "7 - 100"
   ]
  },
  {
   "cell_type": "code",
   "execution_count": null,
   "metadata": {},
   "outputs": [],
   "source": [
    "5 * 4"
   ]
  },
  {
   "cell_type": "code",
   "execution_count": null,
   "metadata": {},
   "outputs": [],
   "source": [
    "10 / 2"
   ]
  },
  {
   "cell_type": "markdown",
   "metadata": {},
   "source": [
    "Everything should look ship-shape so far, but did you notice that the division resulted in a decimal?"
   ]
  },
  {
   "cell_type": "markdown",
   "metadata": {},
   "source": [
    "So far, all of the numbers we've used have been integers.  Accordingly, they belong to the the integer datatype.  If you wanted to check this, you could use the type function to check this:"
   ]
  },
  {
   "cell_type": "code",
   "execution_count": null,
   "metadata": {},
   "outputs": [],
   "source": [
    "type(3)"
   ]
  },
  {
   "cell_type": "code",
   "execution_count": null,
   "metadata": {},
   "outputs": [],
   "source": [
    "type(5)"
   ]
  },
  {
   "cell_type": "code",
   "execution_count": null,
   "metadata": {},
   "outputs": [],
   "source": [
    "type(0)"
   ]
  },
  {
   "cell_type": "code",
   "execution_count": null,
   "metadata": {},
   "outputs": [],
   "source": [
    "type(-123412634791)"
   ]
  },
  {
   "cell_type": "markdown",
   "metadata": {},
   "source": [
    "But when we do division, we get something else:"
   ]
  },
  {
   "cell_type": "code",
   "execution_count": null,
   "metadata": {},
   "outputs": [],
   "source": [
    "type(5.0)"
   ]
  },
  {
   "cell_type": "markdown",
   "metadata": {},
   "source": [
    "When do you do division, Python defaults to giving you a number with a decimal.  This is going to happen most of the time, so even when you do nice clean arithmetic that has no decimal, you still get a float, with a bunch of zeros after the decimal, instead of an integer."
   ]
  },
  {
   "cell_type": "markdown",
   "metadata": {},
   "source": [
    "What if you wanted to get an integer?  You can do integer division:"
   ]
  },
  {
   "cell_type": "code",
   "execution_count": null,
   "metadata": {},
   "outputs": [],
   "source": [
    "10//2"
   ]
  },
  {
   "cell_type": "code",
   "execution_count": null,
   "metadata": {},
   "outputs": [],
   "source": [
    "36//1"
   ]
  },
  {
   "cell_type": "markdown",
   "metadata": {},
   "source": [
    "For comparison between integer division, and regular division:"
   ]
  },
  {
   "cell_type": "code",
   "execution_count": null,
   "metadata": {},
   "outputs": [],
   "source": [
    "9/2"
   ]
  },
  {
   "cell_type": "code",
   "execution_count": null,
   "metadata": {},
   "outputs": [],
   "source": [
    "9//2"
   ]
  },
  {
   "cell_type": "markdown",
   "metadata": {},
   "source": [
    "**mini quiz:** What does the following cell output?"
   ]
  },
  {
   "cell_type": "code",
   "execution_count": null,
   "metadata": {},
   "outputs": [],
   "source": [
    "-1//2"
   ]
  },
  {
   "cell_type": "code",
   "execution_count": null,
   "metadata": {},
   "outputs": [],
   "source": [
    "-15 // 7"
   ]
  },
  {
   "cell_type": "markdown",
   "metadata": {},
   "source": [
    "What else can we do with numbers?"
   ]
  },
  {
   "cell_type": "code",
   "execution_count": null,
   "metadata": {},
   "outputs": [],
   "source": [
    "# exponentiation:\n",
    "2**3"
   ]
  },
  {
   "cell_type": "code",
   "execution_count": null,
   "metadata": {},
   "outputs": [],
   "source": [
    "-1**4"
   ]
  },
  {
   "cell_type": "markdown",
   "metadata": {},
   "source": [
    "Note that exponentiation uses consecutive multiplication signs.  The carrot usually thought of as exponentiation is used as bitwise XOR."
   ]
  },
  {
   "cell_type": "code",
   "execution_count": null,
   "metadata": {},
   "outputs": [],
   "source": [
    "# 0001 ^\n",
    "# 1000 =\n",
    "# 1001\n",
    "\n",
    "1^8"
   ]
  },
  {
   "cell_type": "code",
   "execution_count": null,
   "metadata": {},
   "outputs": [],
   "source": [
    "# 0011 ^\n",
    "# 1010 =\n",
    "# 1001\n",
    "3^10"
   ]
  },
  {
   "cell_type": "code",
   "execution_count": null,
   "metadata": {},
   "outputs": [],
   "source": [
    "# 10001 ^\n",
    "# 10111 =\n",
    "# 00110 = 6\n",
    "17^23"
   ]
  },
  {
   "cell_type": "markdown",
   "metadata": {},
   "source": [
    "Anyway, that's not too important, just know that the ^ does bitwise XOR, and that's why exponentiation is done with two asterinks, \\*\\*."
   ]
  },
  {
   "cell_type": "markdown",
   "metadata": {},
   "source": [
    "Another important function, the modulo operator, %."
   ]
  },
  {
   "cell_type": "code",
   "execution_count": null,
   "metadata": {},
   "outputs": [],
   "source": [
    "35 & 3"
   ]
  },
  {
   "cell_type": "code",
   "execution_count": null,
   "metadata": {},
   "outputs": [],
   "source": [
    "35 % 2"
   ]
  },
  {
   "cell_type": "markdown",
   "metadata": {},
   "source": [
    "Long-division gives both a quotient and a remainder.  The quotient you get from //, the remainder you get from %."
   ]
  },
  {
   "cell_type": "markdown",
   "metadata": {},
   "source": [
    "So, math is fun, and there are a lot more math functions, but we'll come back to those in a bit."
   ]
  },
  {
   "cell_type": "markdown",
   "metadata": {},
   "source": [
    "[Back to Top](#TOC)"
   ]
  },
  {
   "cell_type": "markdown",
   "metadata": {},
   "source": [
    "## [Variables](#TOC) <a name=\"variables\"></a>\n",
    "\n",
    "Variables in Python: if you want to save things, it's really easy:"
   ]
  },
  {
   "cell_type": "code",
   "execution_count": null,
   "metadata": {
    "collapsed": true
   },
   "outputs": [],
   "source": [
    "x = 7\n",
    "y = 2"
   ]
  },
  {
   "cell_type": "code",
   "execution_count": null,
   "metadata": {},
   "outputs": [],
   "source": [
    "# if I put two things side by side, separated by commas,\n",
    "# technically Python makes a \"tuple\" out of them and puts\n",
    "# them in parentheses, but I'm just doing this here\n",
    "# for the sake of simplicity of display.  More on tuples later\n",
    "x, y"
   ]
  },
  {
   "cell_type": "code",
   "execution_count": null,
   "metadata": {},
   "outputs": [],
   "source": [
    "x * y"
   ]
  },
  {
   "cell_type": "code",
   "execution_count": null,
   "metadata": {},
   "outputs": [],
   "source": [
    "x*5 + y"
   ]
  },
  {
   "cell_type": "code",
   "execution_count": null,
   "metadata": {},
   "outputs": [],
   "source": [
    "z = 2x + 3y"
   ]
  },
  {
   "cell_type": "markdown",
   "metadata": {},
   "source": [
    "Oops.  That's some broken code.  Note, for more traditional mathematical notation where you drop multiplication signs that can be implied, you'll need a symbolic algebra library."
   ]
  },
  {
   "cell_type": "code",
   "execution_count": null,
   "metadata": {
    "collapsed": true
   },
   "outputs": [],
   "source": [
    "z = 2*x + 3*y"
   ]
  },
  {
   "cell_type": "code",
   "execution_count": null,
   "metadata": {},
   "outputs": [],
   "source": [
    "# What does z equal?\n",
    "z"
   ]
  },
  {
   "cell_type": "markdown",
   "metadata": {},
   "source": [
    "We can also change our variables once we've created them:"
   ]
  },
  {
   "cell_type": "code",
   "execution_count": null,
   "metadata": {
    "collapsed": true
   },
   "outputs": [],
   "source": [
    "x = 4"
   ]
  },
  {
   "cell_type": "markdown",
   "metadata": {},
   "source": [
    "But note that y and z are still what they were:"
   ]
  },
  {
   "cell_type": "code",
   "execution_count": null,
   "metadata": {},
   "outputs": [],
   "source": [
    "y, z"
   ]
  },
  {
   "cell_type": "markdown",
   "metadata": {},
   "source": [
    "There's a question of whether z should have changed when x changed, since it was defined as a linear combination of x and y, but we'll get more into that later.  For now, know that when we created z, we did a computation on x and y, that resulted in a number, and just the resulting number, not the formula, was stored to z.  This is somewhat tied in to whether x and y and z are mutable or immutable objects.  It's a very important topic we'll come back to once we have lists."
   ]
  },
  {
   "cell_type": "markdown",
   "metadata": {},
   "source": [
    "[Back to Top](#TOC)"
   ]
  },
  {
   "cell_type": "markdown",
   "metadata": {},
   "source": [
    "## [If-statements](#TOC) <a name=\"if-statements\"></a>\n",
    "\n",
    "If statements are a building block of computer science.  They're usually instantiated, if a condition is True, we do something.  Depending on how complicated life is, we might have a plan b lined up in case our condition is not true.  In Python, we can line up lots of statements of this nature."
   ]
  },
  {
   "cell_type": "code",
   "execution_count": null,
   "metadata": {},
   "outputs": [],
   "source": [
    "# setting a variable\n",
    "num = 3\n",
    "\n",
    "# if-statement decided how to proceed.\n",
    "if num > 0:\n",
    "    print(\"positive\")"
   ]
  },
  {
   "cell_type": "markdown",
   "metadata": {},
   "source": [
    "Simple enough, but what if our number isn't positive?"
   ]
  },
  {
   "cell_type": "code",
   "execution_count": null,
   "metadata": {
    "collapsed": true
   },
   "outputs": [],
   "source": [
    "num = -3\n",
    "\n",
    "if num > 0:\n",
    "    print(\"positive\")"
   ]
  },
  {
   "cell_type": "markdown",
   "metadata": {},
   "source": [
    "That did nothing for us, but maybe we wanted something to happen.  Fortunately, there's the else statement that lets us do something in the case our condition is false:"
   ]
  },
  {
   "cell_type": "code",
   "execution_count": null,
   "metadata": {},
   "outputs": [],
   "source": [
    "num = -3\n",
    "\n",
    "if num > 0:\n",
    "    print(\"positive\")\n",
    "else:\n",
    "    print(\"non-positive\")"
   ]
  },
  {
   "cell_type": "markdown",
   "metadata": {},
   "source": [
    "In the code above, we the word if statement combined with a condition and a colon, followed by relevant code to execute.  Then we have an else statement with a colon, with no condition (if/else forms a binary set of options, you do either the top code or bottom code, one or the other), and code to execute.  If the if-condition is True, we omit the code following the else statement.  If the if-condition is False, we skip all the code associated with it, and go straight to the code associated with the else statement.\n",
    "\n",
    "In some programming languages, you'd need to put parentheses around the boolean (num > 0), and you'd need to put brackets around all the code you want to execute when the if statement is true, but that isn't the case with Python.  With if statements, Python is looking between \"if\" and the \":\" to find its boolean.  No need for parentheses.  Then, everything that is indented four spaces inward from the if-statement is considered the code to run with that statement.  Once you come across a line without that indentation, subsequent indentation belongs to some other action (like the else statement).  What does the following do?"
   ]
  },
  {
   "cell_type": "code",
   "execution_count": null,
   "metadata": {},
   "outputs": [],
   "source": [
    "num = -3\n",
    "\n",
    "if num > 0:\n",
    "    print(\"positive\")\n",
    "    print(\"Might be even, might not\")\n",
    "else:\n",
    "    print(\"non-positive\")\n",
    "    print(\"what do I want for dinner?\")\n",
    "    \n",
    "print(\"yolo\")"
   ]
  },
  {
   "cell_type": "markdown",
   "metadata": {},
   "source": [
    "How about this?"
   ]
  },
  {
   "cell_type": "code",
   "execution_count": null,
   "metadata": {},
   "outputs": [],
   "source": [
    "num = .1\n",
    "\n",
    "if num > 0:\n",
    "    print(\"positive\")\n",
    "    print(\"Might be even, might not\")\n",
    "else:\n",
    "    print(\"non-positive\")\n",
    "    print(\"what do I want for dinner?\")\n",
    "    \n",
    "print(\"yolo\")"
   ]
  },
  {
   "cell_type": "markdown",
   "metadata": {},
   "source": [
    "As you can see, we can associate multiple lines of code with an if or else statement.  This is all great, but sometimes we live in more than just a binary universe.  if/else is fine if we want to categorize something as positive or negative, but what if we want to include the case of zero, which is neither positive or negative?\n",
    "\n",
    "In this case, we have an extra feature of the if-statement, the \"elif\"."
   ]
  },
  {
   "cell_type": "code",
   "execution_count": null,
   "metadata": {},
   "outputs": [],
   "source": [
    "num = 0\n",
    "\n",
    "if num > 0:\n",
    "    print(\"positive\")\n",
    "    print(\"Might be even, might not\")\n",
    "elif num < 0:\n",
    "    print(\"negative\")\n",
    "    print(\"what do I want for dinner?\")\n",
    "else:\n",
    "    print(\"your number is zero!\")\n",
    "    \n",
    "print(\"yolo\")"
   ]
  },
  {
   "cell_type": "markdown",
   "metadata": {},
   "source": [
    "When python reaches the if statement, first it checks the truth of the associated condition.  If True, it executes the relevant code.  If False, it jumps down to the elif (else-if) statement.  If that's true, the relevant code is executed.  If the elif condition is False, we keep jumping to the next condition until we hit an else statement.  The else statement serves as a catch-all in case all the preceding conditions were False, and executes the else-code when appropriate."
   ]
  },
  {
   "cell_type": "markdown",
   "metadata": {},
   "source": [
    "Mini quiz: can you change the value of num and num2 to get each of the numbers 1, 2, and 3 to print?"
   ]
  },
  {
   "cell_type": "code",
   "execution_count": null,
   "metadata": {},
   "outputs": [],
   "source": [
    "num = 0\n",
    "num2 = 0\n",
    "\n",
    "\n",
    "if num % 2 <1:\n",
    "    print(1)\n",
    "else:\n",
    "    if num //3 > 1:\n",
    "        print(2)\n",
    "    elif num2 > 0:\n",
    "        print(\"gotcha\")\n",
    "    else:\n",
    "        print(3)"
   ]
  },
  {
   "cell_type": "markdown",
   "metadata": {},
   "source": [
    "[Back to Top](#TOC)"
   ]
  },
  {
   "cell_type": "markdown",
   "metadata": {},
   "source": [
    "## [Functions](#TOC) <a name=\"functions\"></a>\n",
    "\n",
    "This may be a bit early to introduce functions, but for a sophisticated audience, we should be fine.\n",
    "\n",
    "What is a function?  It's  something that takes input, processes it somehow, and gives output.  A prototype for functions you'll define: "
   ]
  },
  {
   "cell_type": "raw",
   "metadata": {},
   "source": [
    "def name_of_function (input1,input2):\n",
    "    \n",
    "    <do some work with my inputs>\n",
    "    <do some more work with my inputs>\n",
    "    <arrive at at answer>\n",
    "    \n",
    "    return (answer_for_user)"
   ]
  },
  {
   "cell_type": "markdown",
   "metadata": {},
   "source": [
    "And now for an example:"
   ]
  },
  {
   "cell_type": "code",
   "execution_count": null,
   "metadata": {
    "collapsed": true
   },
   "outputs": [],
   "source": [
    "def add_two(number):\n",
    "    output = number + 2\n",
    "    return output"
   ]
  },
  {
   "cell_type": "code",
   "execution_count": null,
   "metadata": {},
   "outputs": [],
   "source": [
    "add_two(3)"
   ]
  },
  {
   "cell_type": "code",
   "execution_count": null,
   "metadata": {},
   "outputs": [],
   "source": [
    "add_two(6)"
   ]
  },
  {
   "cell_type": "markdown",
   "metadata": {},
   "source": [
    "Our function takes in a number, adds 2 to it, and then returns the newly minted number.  How about something more complicated?"
   ]
  },
  {
   "cell_type": "code",
   "execution_count": null,
   "metadata": {
    "collapsed": true
   },
   "outputs": [],
   "source": [
    "# this function calculates the increase in savings left in a bank\n",
    "# at an intereste \"rate\" for a number of years, \"years\".\n",
    "def interest(rate,years):\n",
    "    \n",
    "    # subtracting gives the decimal expression of growth over 1\n",
    "    # for the given rate and years.\n",
    "    growth = (1 + rate)**years - 1\n",
    "    \n",
    "    return growth\n",
    "    \n",
    "     "
   ]
  },
  {
   "cell_type": "code",
   "execution_count": null,
   "metadata": {},
   "outputs": [],
   "source": [
    "interest(.06,10)"
   ]
  },
  {
   "cell_type": "markdown",
   "metadata": {},
   "source": [
    "This still feels a bit contrived as we could have done this calculation in one line, but soon we'll ramp up the complexity.  Note, the last thing a function does is \"return\".  Once a function hits any return statement (you can have multiple return statements under different conditions) it ignores anything else it was asked to do.  Example:"
   ]
  },
  {
   "cell_type": "code",
   "execution_count": null,
   "metadata": {
    "collapsed": true
   },
   "outputs": [],
   "source": [
    "# this function calculates the increase in savings left in a bank\n",
    "# at an interest rate, \"rate\", for a number of years, \"years\". The \n",
    "# function assums your interest rate will be a decimal representing\n",
    "# a growth rate less than 15%\n",
    "def interest2(rate,years):\n",
    "    \n",
    "    if 0<rate<.15:\n",
    "        \n",
    "        # subtracting gives the decimal expression of growth over 1\n",
    "        # for the given rate and years.\n",
    "        growth = (1 + rate)**years - 1\n",
    "\n",
    "        return growth\n",
    "\n",
    "    else:\n",
    "        print(\"you entered an invalid intest rate\")\n",
    "        \n",
    "    return rate\n",
    "\n",
    "    print(\"this line never runs\")"
   ]
  },
  {
   "cell_type": "code",
   "execution_count": null,
   "metadata": {},
   "outputs": [],
   "source": [
    "interest2(.06,10)"
   ]
  },
  {
   "cell_type": "code",
   "execution_count": null,
   "metadata": {},
   "outputs": [],
   "source": [
    "interest2(.16,10)"
   ]
  },
  {
   "cell_type": "markdown",
   "metadata": {},
   "source": [
    "Notice that, in either case, we can't ever get to the last print( ) of the function.  In the top case, our function routes through the if condition and returns, never hitting the else or other terminal code.  In the second case, our function skips the if-block, runs the else-block, and then returns the original rate.  Point being, once your function reaches a return statement, the function terminates."
   ]
  },
  {
   "cell_type": "markdown",
   "metadata": {},
   "source": [
    "Two more things I want to mention about functions.  Do they have to return something?  And what about this print( ) function we've been using?"
   ]
  },
  {
   "cell_type": "markdown",
   "metadata": {},
   "source": [
    "The short answer to the above is that all functions return a value.  That said, not all functions return an interesting value.  If your function doesn't have a declared return value, when Python gets to the end of a function, it ends the function and returns a value called \"None\", otherwise known as the None value."
   ]
  },
  {
   "cell_type": "code",
   "execution_count": null,
   "metadata": {
    "collapsed": true
   },
   "outputs": [],
   "source": [
    "def boring(num):\n",
    "    if num > 0:\n",
    "        return \"positive\""
   ]
  },
  {
   "cell_type": "code",
   "execution_count": null,
   "metadata": {},
   "outputs": [],
   "source": [
    "boring(3)"
   ]
  },
  {
   "cell_type": "code",
   "execution_count": null,
   "metadata": {},
   "outputs": [],
   "source": [
    "# we can save the previous result:\n",
    "output = boring(3)\n",
    "print(output)"
   ]
  },
  {
   "cell_type": "code",
   "execution_count": null,
   "metadata": {
    "collapsed": true
   },
   "outputs": [],
   "source": [
    "boring(-1)"
   ]
  },
  {
   "cell_type": "code",
   "execution_count": null,
   "metadata": {},
   "outputs": [],
   "source": [
    "output = boring(-1)\n",
    "print(output)"
   ]
  },
  {
   "cell_type": "markdown",
   "metadata": {},
   "source": [
    "Just as you might get into an argument about whether infinity is a number, you can argue about whether None is something or nothing.  Suffice to say, if you don't tell Python to return something, it returns this value called the None value.  It's a real thing, but you can't really do much with it, so make sure you return in every case where you want to retrieve the result of a function or generally of some sort of work, and go on to do something else with the value."
   ]
  },
  {
   "cell_type": "markdown",
   "metadata": {},
   "source": [
    "[Back to Top](#TOC)"
   ]
  },
  {
   "cell_type": "markdown",
   "metadata": {},
   "source": [
    "## [print( )](#TOC) <a name=\"print\"></a>"
   ]
  },
  {
   "cell_type": "markdown",
   "metadata": {},
   "source": [
    "I've been using the print function for a while now without introducing it.  As you may have guessed, it prints things.  If I give it a number, it will display a number on the screen.  If I give it a string, letters grouped within quotes, it'll display that string/text.  Above, when I gave it a None value, it printed None.  From this you probably gathered that print( ) takes stuff, and puts it on the screen.  But why is this useful?  We get stuff to the screen plenty well without print(), right?\n",
    "\n",
    "Take a look at the left side of our code cells.  Notice there's always something like In [\\*]:.  This suggests that the code in the cell was input, the number within the brackets tells you in which order the cells were run.  If you've been paying close attention, you might also notice that sometimes there is output, Out[\\*]:.  The output from a cell is the final result of the final computation.\n",
    "\n",
    "In contrast, if you look where we've printed information, there isn't the signal that we've outputted anything.  Why is that?  Turns out, displaying something on the screen, versus giving it to the underlying Python engine to further process, are two different things."
   ]
  },
  {
   "cell_type": "code",
   "execution_count": null,
   "metadata": {},
   "outputs": [],
   "source": [
    "# what does this cell do?\n",
    "\n",
    "test = print(5)\n",
    "\n",
    "print(test)\n",
    "\n",
    "test + 5"
   ]
  },
  {
   "cell_type": "markdown",
   "metadata": {},
   "source": [
    "In running the first line, Python evaluates the right side, and in doing so, it prints 5 to the screen (sans Out[\\*]:).  Next it prints the value that was saved to test, and finally it attempts to add 5 to the variable test.  Because you can't add Nothing to 5, Python crashes. I point this all out because you can be asked to print something, or return something, and they are very different things.  You print if you want to convey an answer to the user.  You return if you want to feed a result you've calculated to another processing point.\n",
    "\n",
    "With that out of the way, a little more about printing.  Note, you can print lots of things all at once:"
   ]
  },
  {
   "cell_type": "code",
   "execution_count": null,
   "metadata": {},
   "outputs": [],
   "source": [
    "print(1,2,3,4,5)"
   ]
  },
  {
   "cell_type": "code",
   "execution_count": null,
   "metadata": {},
   "outputs": [],
   "source": [
    "print(\"hi mom\",42)"
   ]
  },
  {
   "cell_type": "markdown",
   "metadata": {},
   "source": [
    "What if I want everything to be smushed together?  You can change the separator for the print function:"
   ]
  },
  {
   "cell_type": "code",
   "execution_count": null,
   "metadata": {},
   "outputs": [],
   "source": [
    "# in this case, the separator, sep, is set to the empty character,\n",
    "# two quotes with nothing in between, so there shouldn't be any\n",
    "# space between our numbers now.\n",
    "print(1,2,3,4,5,sep = \"\")"
   ]
  },
  {
   "cell_type": "markdown",
   "metadata": {},
   "source": [
    "The other big thing you should know about printing is that you can change the terminal character."
   ]
  },
  {
   "cell_type": "code",
   "execution_count": null,
   "metadata": {},
   "outputs": [],
   "source": [
    "print(\"I\")\n",
    "print(\"Want\")\n",
    "print(\"Reasonable\")\n",
    "print(\"Weather\")"
   ]
  },
  {
   "cell_type": "markdown",
   "metadata": {},
   "source": [
    "Notice how the print function puts a line break after every time it runs.  This can be modified too:"
   ]
  },
  {
   "cell_type": "code",
   "execution_count": null,
   "metadata": {},
   "outputs": [],
   "source": [
    "print(\"I\",end = \". \")\n",
    "print(\"Want\",end = \". \")\n",
    "print(\"Reasonable\",end = \". \")\n",
    "print(\"Weather\",end = \". \")"
   ]
  },
  {
   "cell_type": "markdown",
   "metadata": {},
   "source": [
    "Now instead of skipping to the next new line after each use of the function, we just print a period and a space."
   ]
  },
  {
   "cell_type": "markdown",
   "metadata": {},
   "source": [
    "You could also combine multiple inputs to a function with a specifically set separator and a specifically set end character.  Short story, change what you need to print things how you need them.  And with that, let's talk about strings for a bit.  I've been using them haphazardly, but let's think about them more rigorously.  How do we define them?  What can we do with them?"
   ]
  },
  {
   "cell_type": "markdown",
   "metadata": {},
   "source": [
    "[Back to Top](#TOC)"
   ]
  },
  {
   "cell_type": "markdown",
   "metadata": {},
   "source": [
    "## [Strings](#TOC) <a name=\"strings\"></a>\n",
    "\n",
    "Another basic data type, and the second fundamental of this module.  Strings are text.  I'm not sure where the word string came from.  I think it's from C where you have individual letters which are called characters, and text, which is multiple characters strung together ... strings."
   ]
  },
  {
   "cell_type": "code",
   "execution_count": null,
   "metadata": {},
   "outputs": [],
   "source": [
    "\"a\""
   ]
  },
  {
   "cell_type": "code",
   "execution_count": null,
   "metadata": {},
   "outputs": [],
   "source": [
    "\"abcde\""
   ]
  },
  {
   "cell_type": "code",
   "execution_count": null,
   "metadata": {},
   "outputs": [],
   "source": [
    "\"aeiou\""
   ]
  },
  {
   "cell_type": "markdown",
   "metadata": {},
   "source": [
    "You denote strings, or text, with quotes.  One quote to open, and one quote to close.  It doesn't matter if you use single or double quotes."
   ]
  },
  {
   "cell_type": "code",
   "execution_count": null,
   "metadata": {},
   "outputs": [],
   "source": [
    "\"I prefere to use double quotes.\""
   ]
  },
  {
   "cell_type": "code",
   "execution_count": null,
   "metadata": {},
   "outputs": [],
   "source": [
    "'But, lots of people prefer to use single quotes.'"
   ]
  },
  {
   "cell_type": "markdown",
   "metadata": {},
   "source": [
    "You can't mix and match quotes haphazardly.  If you start with a double, you need to end with a double.  If you start with a single, you need to end with a single.  But, this can be used to your advantage.  If you need an apostrophe in your text, you can use double quotes for the string:"
   ]
  },
  {
   "cell_type": "code",
   "execution_count": null,
   "metadata": {},
   "outputs": [],
   "source": [
    "\"This isn't an exciting example, but it illustrates a point.\""
   ]
  },
  {
   "cell_type": "markdown",
   "metadata": {},
   "source": [
    "Note what happens if I try to use all single quotes:"
   ]
  },
  {
   "cell_type": "code",
   "execution_count": null,
   "metadata": {},
   "outputs": [],
   "source": [
    "'this isn't an exciting example.'"
   ]
  },
  {
   "cell_type": "markdown",
   "metadata": {},
   "source": [
    "In this latter case, the intended apostrophe functions to end the text, and then we have syntax errors from the remaining unquoted text, which has no well defined Pythonic evaluation."
   ]
  },
  {
   "cell_type": "markdown",
   "metadata": {},
   "source": [
    "Another alternative is to use the slash to \"escape\" a character:"
   ]
  },
  {
   "cell_type": "code",
   "execution_count": null,
   "metadata": {},
   "outputs": [],
   "source": [
    "'I don\\'t like to use double quotes.'"
   ]
  },
  {
   "cell_type": "markdown",
   "metadata": {},
   "source": [
    "Putting the slash before the quote in this case lets Python know that you intend to use the quote as text and not for its potential functional value other than being text.  There are lots of characters you can escape like this."
   ]
  },
  {
   "cell_type": "code",
   "execution_count": null,
   "metadata": {},
   "outputs": [],
   "source": [
    "\"The newline character: \\nThe tab character: \\t.\\nThe double quote \\\"\\nThe escape character \\\\n\""
   ]
  },
  {
   "cell_type": "markdown",
   "metadata": {},
   "source": [
    "For some of these, you need to actually print them to see them in use.  Compare the above with the below:"
   ]
  },
  {
   "cell_type": "code",
   "execution_count": null,
   "metadata": {},
   "outputs": [],
   "source": [
    "print(\"The newline character: \\nThe tab character: \\t.\\nThe double quote \\\"\\nThe escape character \\\\n\")"
   ]
  },
  {
   "cell_type": "markdown",
   "metadata": {},
   "source": [
    "The difference between the two code cells above is one is **returning** a string, while another is **printing** a string.  In the latter case, print( ) takes a string, and formally displays it to the user.  Notice how the newline character, \\n, indented to the next line.  The tab character, \\t, took the succeeding text to the next tab stop.  The escaped double quote didn't end our text, and the escaped slash presented as a slash.  By escaping the slash, it prevented us from having a terminal newline character. "
   ]
  },
  {
   "cell_type": "markdown",
   "metadata": {},
   "source": [
    "Enough of printing.  Let's save some text and see what we can do with it:"
   ]
  },
  {
   "cell_type": "code",
   "execution_count": null,
   "metadata": {
    "collapsed": true
   },
   "outputs": [],
   "source": [
    "letters = \"abcdefghijklmnop\""
   ]
  },
  {
   "cell_type": "code",
   "execution_count": null,
   "metadata": {},
   "outputs": [],
   "source": [
    "letters"
   ]
  },
  {
   "cell_type": "markdown",
   "metadata": {},
   "source": [
    "Most things in Python are objects, and have methods (functions specific to that object) attached to them.  We could have explored this with integers and floats, but strings have a richer variety of methods, so we'll start exploring that here.\n",
    "\n",
    "To invoke a method, you place a dot after your object, then the name of the method, and then use parentheses to run the method:"
   ]
  },
  {
   "cell_type": "code",
   "execution_count": null,
   "metadata": {},
   "outputs": [],
   "source": [
    "letters.capitalize()"
   ]
  },
  {
   "cell_type": "code",
   "execution_count": null,
   "metadata": {},
   "outputs": [],
   "source": [
    "letters.upper()"
   ]
  },
  {
   "cell_type": "code",
   "execution_count": null,
   "metadata": {},
   "outputs": [],
   "source": [
    "# note, i is the 9th letter of the alphabet.  Indexing something in a string,\n",
    "# like elsewhere in Python and most computer science languages, starts at 0\n",
    "# instead of 1.\n",
    "letters.find(\"i\")"
   ]
  },
  {
   "cell_type": "code",
   "execution_count": null,
   "metadata": {},
   "outputs": [],
   "source": [
    "# is our string numeric?\n",
    "letters.isnumeric()"
   ]
  },
  {
   "cell_type": "code",
   "execution_count": null,
   "metadata": {},
   "outputs": [],
   "source": [
    "# is our string alphabetic?\n",
    "letters.isalnum()"
   ]
  },
  {
   "cell_type": "code",
   "execution_count": null,
   "metadata": {},
   "outputs": [],
   "source": [
    "letters.replace(\"e\",\" Hi \")"
   ]
  },
  {
   "cell_type": "markdown",
   "metadata": {},
   "source": [
    "Did we ever actually change the original string?"
   ]
  },
  {
   "cell_type": "code",
   "execution_count": null,
   "metadata": {},
   "outputs": [],
   "source": [
    "# what does our variable look like?\n",
    "letters"
   ]
  },
  {
   "cell_type": "markdown",
   "metadata": {},
   "source": [
    "Nope.  Strings are immutable, like numbers. You can take strings and build new things from them, but once they're created, you can't change them unless you overwrite/redefine them."
   ]
  },
  {
   "cell_type": "code",
   "execution_count": null,
   "metadata": {
    "collapsed": true
   },
   "outputs": [],
   "source": [
    "mishmash = \"abc 123\""
   ]
  },
  {
   "cell_type": "code",
   "execution_count": null,
   "metadata": {
    "collapsed": true
   },
   "outputs": [],
   "source": [
    "# replace our space character with a longer space:\n",
    "mishmash = mishmash.replace(\" \",\"    \")"
   ]
  },
  {
   "cell_type": "code",
   "execution_count": null,
   "metadata": {},
   "outputs": [],
   "source": [
    "# since we saved the result, this should be different\n",
    "mishmash"
   ]
  },
  {
   "cell_type": "code",
   "execution_count": null,
   "metadata": {
    "collapsed": true
   },
   "outputs": [],
   "source": [
    "# here we chain together multiple changes.  First we uppercase\n",
    "# all the letters, and with that result, we then replace our spaces,\n",
    "# and then we replace the numbers at the end\n",
    "mishmash = mishmash.upper().replace(\"    \",\" ********* \").replace(\"123\",\"DEF\")"
   ]
  },
  {
   "cell_type": "code",
   "execution_count": null,
   "metadata": {},
   "outputs": [],
   "source": [
    "mishmash"
   ]
  },
  {
   "cell_type": "markdown",
   "metadata": {},
   "source": [
    "Did all of that make sense?  mishmash.upper() took our string and created a new one with capital letters, which was then fed into .replace( ... ), which took the new string and returned a new string with asterisks instead of spaces, and then took the resulting string and changed its ending value, all before saving over the original variable with the last string we constructed."
   ]
  },
  {
   "cell_type": "markdown",
   "metadata": {},
   "source": [
    "[Back to Top](#TOC)"
   ]
  },
  {
   "cell_type": "markdown",
   "metadata": {},
   "source": [
    "## [Slicing](#TOC) <a name=\"slicing\"></a>\n",
    "\n",
    "Slowly, we're getting off the ground and getting to important stuff.  Slicing.  Slicing is a key way we extract information from strings.  To do so, we put square brackets after the string, with some combination of numbers and colons."
   ]
  },
  {
   "cell_type": "code",
   "execution_count": null,
   "metadata": {
    "collapsed": true
   },
   "outputs": [],
   "source": [
    "num_text = \"0123456789\"\n",
    "alpha_text = \"abcdefghij\""
   ]
  },
  {
   "cell_type": "code",
   "execution_count": null,
   "metadata": {},
   "outputs": [],
   "source": [
    "# One number in brackets gives the character in that position\n",
    "# remember that indexing starts with 0 in python, not 1.\n",
    "print(num_text[0], alpha_text[0])"
   ]
  },
  {
   "cell_type": "code",
   "execution_count": null,
   "metadata": {},
   "outputs": [],
   "source": [
    "print(num_text[8], alpha_text[8])"
   ]
  },
  {
   "cell_type": "markdown",
   "metadata": {},
   "source": [
    "What happens if we ask for a character that is beyond the end of the string?"
   ]
  },
  {
   "cell_type": "code",
   "execution_count": null,
   "metadata": {},
   "outputs": [],
   "source": [
    "num_text[15]"
   ]
  },
  {
   "cell_type": "markdown",
   "metadata": {},
   "source": [
    "Moral of the story, make sure you ask for a character within the viable range of characters.\n",
    "\n",
    "What if I wanted the first 5 characters?  Or generally some concoction of characters?"
   ]
  },
  {
   "cell_type": "code",
   "execution_count": null,
   "metadata": {},
   "outputs": [],
   "source": [
    "num_text[0:5]"
   ]
  },
  {
   "cell_type": "code",
   "execution_count": null,
   "metadata": {},
   "outputs": [],
   "source": [
    "num_text[6:10]"
   ]
  },
  {
   "cell_type": "markdown",
   "metadata": {},
   "source": [
    "Giving one number in brackets denotes requesting something in a position.  Giving two numbers separated by a colon means you start with the first number, and keep grabbing characters until you get to the second number (noting, you don't include the character in the terminal position."
   ]
  },
  {
   "cell_type": "code",
   "execution_count": null,
   "metadata": {},
   "outputs": [],
   "source": [
    "print(num_text[0:8],alpha_text[1:3])"
   ]
  },
  {
   "cell_type": "markdown",
   "metadata": {},
   "source": [
    "Can we go out of range here as well?"
   ]
  },
  {
   "cell_type": "code",
   "execution_count": null,
   "metadata": {},
   "outputs": [],
   "source": [
    "num_text[0:100]"
   ]
  },
  {
   "cell_type": "markdown",
   "metadata": {},
   "source": [
    "Turns out, when you ask for multiple characters, Python starts where you tell it to start, and then grabs any characters it can before returning what it found.  If you get the end of the string, Python essentially gives up on finding new values for you, and says, these are the values that fit your criteria.\n",
    "\n",
    "A few more degenerate cases:"
   ]
  },
  {
   "cell_type": "code",
   "execution_count": null,
   "metadata": {},
   "outputs": [],
   "source": [
    "num_text[5:3]"
   ]
  },
  {
   "cell_type": "markdown",
   "metadata": {},
   "source": [
    "If we start at the 5th position, we can't count forward to 3, so no characters fit the criteria/ no characters are returned."
   ]
  },
  {
   "cell_type": "code",
   "execution_count": null,
   "metadata": {},
   "outputs": [],
   "source": [
    "num_text[5:5]"
   ]
  },
  {
   "cell_type": "markdown",
   "metadata": {},
   "source": [
    "All the characters from the 5th position to the 5th position, not including the 5th position ... that's no characters, otherwise known as the empty string."
   ]
  },
  {
   "cell_type": "code",
   "execution_count": null,
   "metadata": {},
   "outputs": [],
   "source": [
    "num_text[-5:15]"
   ]
  },
  {
   "cell_type": "markdown",
   "metadata": {},
   "source": [
    "Well ... that's weird.  Any idea what happened?"
   ]
  },
  {
   "cell_type": "markdown",
   "metadata": {},
   "source": [
    "Turns out you can find elements of a string counting their position from the front of the string, or you can find elements using negative numbers if you know what you're looking for is at the end of your string.  In the case above, if you start using negative numbers, Python will count up in increments of 1 until it gets to 0, and then stop (you can't ask for numbers in positive and negative positions within the same slice)."
   ]
  },
  {
   "cell_type": "code",
   "execution_count": null,
   "metadata": {},
   "outputs": [],
   "source": [
    "# Here's another example of slicing with negative numbers.\n",
    "num_text[-5:-1]"
   ]
  },
  {
   "cell_type": "markdown",
   "metadata": {},
   "source": [
    "Hopefully you have the idea of slicing with two numbers separated by a colon.  The last major piece of slicing: you can specify a starting point, a stopping point, and also a step size, either positive or negative.  What do the following do?"
   ]
  },
  {
   "cell_type": "code",
   "execution_count": null,
   "metadata": {},
   "outputs": [],
   "source": [
    "num_text[0:8:2]"
   ]
  },
  {
   "cell_type": "code",
   "execution_count": null,
   "metadata": {},
   "outputs": [],
   "source": [
    "num_text[1:8:2]"
   ]
  },
  {
   "cell_type": "code",
   "execution_count": null,
   "metadata": {},
   "outputs": [],
   "source": [
    "num_text[0:15:3]"
   ]
  },
  {
   "cell_type": "code",
   "execution_count": null,
   "metadata": {
    "collapsed": true
   },
   "outputs": [],
   "source": [
    "num_text[-1:-8:-1]"
   ]
  },
  {
   "cell_type": "markdown",
   "metadata": {},
   "source": [
    "And one last note on slicing.  It's often the case that you want to start or finish at the end (either front or back).  This is common enough that you can shorthand this by omitting the number."
   ]
  },
  {
   "cell_type": "code",
   "execution_count": null,
   "metadata": {},
   "outputs": [],
   "source": [
    "# This is start at the left end, end at the right end, and take every 2nd character.\n",
    "num_text[::2]"
   ]
  },
  {
   "cell_type": "code",
   "execution_count": null,
   "metadata": {},
   "outputs": [],
   "source": [
    "# if you negate the step size, you start and end at different ends:\n",
    "num_text[::-1]"
   ]
  },
  {
   "cell_type": "code",
   "execution_count": null,
   "metadata": {},
   "outputs": [],
   "source": [
    "# if you want just the last three elements in a list:\n",
    "num_text[:-4:-1]"
   ]
  },
  {
   "cell_type": "code",
   "execution_count": null,
   "metadata": {},
   "outputs": [],
   "source": [
    "# if you just want a copy of your string, start at the implied beginning,\n",
    "# continue to the implied end, and take the implied every character 1 at a time\n",
    "num_text[::]"
   ]
  },
  {
   "cell_type": "code",
   "execution_count": null,
   "metadata": {
    "collapsed": true
   },
   "outputs": [],
   "source": [
    "# mini-quiz.  Extract the secret message from text! \n",
    "text = \"34)p0-92:h0 9ma3eky2i08hm1ie'mxk ,.i90hc\""
   ]
  },
  {
   "cell_type": "markdown",
   "metadata": {},
   "source": [
    "[Back to Top](#TOC)"
   ]
  },
  {
   "cell_type": "markdown",
   "metadata": {},
   "source": [
    "## [Addition/Formatting](#TOC) <a name=\"formatting\"></a>\n",
    "\n",
    "A couple more common things you can do with strings:"
   ]
  },
  {
   "cell_type": "code",
   "execution_count": null,
   "metadata": {},
   "outputs": [],
   "source": [
    "\"one two three\" + \"four five six\""
   ]
  },
  {
   "cell_type": "markdown",
   "metadata": {},
   "source": [
    "Addition is what is called a \"polymorphism.\"  You don't need to remember this word unless you plan on taking a bunch of computer science classes, but at least know Polymorhism is a thing.  Addition works as you would expect for integers and floats, but because it is a polymorphism, you aren't restrictod to just adding ints and floats.  Above we added two strings.  Sometimes, we can even mix and match data types.  For instance, what would it mean to add a string to itself 3 times?"
   ]
  },
  {
   "cell_type": "code",
   "execution_count": null,
   "metadata": {},
   "outputs": [],
   "source": [
    "\"yo homey\" + \"yo homey\" + \"yo homey\""
   ]
  },
  {
   "cell_type": "code",
   "execution_count": null,
   "metadata": {},
   "outputs": [],
   "source": [
    "\"yo homey\" * 3"
   ]
  },
  {
   "cell_type": "markdown",
   "metadata": {},
   "source": [
    "Turns out that multiplication is a polymorphism that crosses data types, although you can't multiply a string by a string:"
   ]
  },
  {
   "cell_type": "code",
   "execution_count": null,
   "metadata": {},
   "outputs": [],
   "source": [
    "\"yo homey\" * \"yo homey\""
   ]
  },
  {
   "cell_type": "markdown",
   "metadata": {},
   "source": [
    "Maybe the last string thing for a while, formatting.  This is big for ... formatting purposes.  Formatting can be done in different ways in Python 2 and Python 3.  Likely you'll spend all your time programming in Python 3, but if you see something unfamiliar doing a familiar task, know that it may be Python 2 sytax, or just an older version of Python 3 syntax.  \n",
    "\n",
    "Anyway, for reporting purproses, you'll want to be able to insert values you calculate into a string:"
   ]
  },
  {
   "cell_type": "code",
   "execution_count": null,
   "metadata": {},
   "outputs": [],
   "source": [
    "text = \"3 X 2 = answer\"\n",
    "text"
   ]
  },
  {
   "cell_type": "markdown",
   "metadata": {},
   "source": [
    "This doesn't help us much.  We really need to be able to insert an actual answer.  The way we do this:"
   ]
  },
  {
   "cell_type": "code",
   "execution_count": null,
   "metadata": {},
   "outputs": [],
   "source": [
    "\"3 X 2 = {}\".format(6)"
   ]
  },
  {
   "cell_type": "markdown",
   "metadata": {},
   "source": [
    "More generally:"
   ]
  },
  {
   "cell_type": "code",
   "execution_count": null,
   "metadata": {},
   "outputs": [],
   "source": [
    "\"{} + {} = {}\".format(\"one\",\"two\",\"three\")"
   ]
  },
  {
   "cell_type": "markdown",
   "metadata": {},
   "source": [
    "Expanding on this a little, Python will blindly fill curly braces within a string with the things that show up in the .format( ) method, but you can override the blind filling:"
   ]
  },
  {
   "cell_type": "code",
   "execution_count": null,
   "metadata": {},
   "outputs": [],
   "source": [
    "\"{0} + {0} = {1}\".format(\"one\",\"two\")"
   ]
  },
  {
   "cell_type": "markdown",
   "metadata": {},
   "source": [
    "And probably more importantly, you can fill in numbers and specify how many digits you want:"
   ]
  },
  {
   "cell_type": "code",
   "execution_count": null,
   "metadata": {},
   "outputs": [],
   "source": [
    "\"The answer to a really complex calculation in AM207 is: {}.  Totally expected\".format(3.1415926535)"
   ]
  },
  {
   "cell_type": "markdown",
   "metadata": {},
   "source": [
    "But maybe that was too many digits?"
   ]
  },
  {
   "cell_type": "code",
   "execution_count": null,
   "metadata": {},
   "outputs": [],
   "source": [
    "\"The answer to a really complex calculation in AM207 is: {:.2f}.  Totally expected\".format(3.1415926535)"
   ]
  },
  {
   "cell_type": "markdown",
   "metadata": {},
   "source": [
    "The .2 signifies you want 2 digits.  The f is related to the fact that we're dealing with floating point numbers.  If you want to align a bunch of numbers, you could do that:"
   ]
  },
  {
   "cell_type": "code",
   "execution_count": null,
   "metadata": {},
   "outputs": [],
   "source": [
    "print(\"first:{:7.2f}\\nsecond:{:6.2f}\\nthird:{:7.2f}\\nfourth:{:6.2f}\\n\".format(1.2,1.3,1.2,1.5))"
   ]
  },
  {
   "cell_type": "markdown",
   "metadata": {},
   "source": [
    "There's a tremendous amount on formatting. I'd suggest exploring more [here](https://pyformat.info/) as you need/want."
   ]
  },
  {
   "cell_type": "markdown",
   "metadata": {},
   "source": [
    "[Back to Top](#TOC)"
   ]
  },
  {
   "cell_type": "markdown",
   "metadata": {},
   "source": [
    "## [Lists](#TOC) <a name=\"lists\"></a>\n",
    "\n",
    "Lists are the last of what I consider the first major data types.  We'll have a couple more major data types, but numbers of some sort, strings, and lists form the foundation.  And quite nicely, while numbers and strings are immutable, lists are the opposite of that, mutable.  This means lists present a pitfall you don't see with the other data types."
   ]
  },
  {
   "cell_type": "markdown",
   "metadata": {},
   "source": [
    "What is a list, and how do we create one?  Two ways to create the empty list:"
   ]
  },
  {
   "cell_type": "code",
   "execution_count": null,
   "metadata": {
    "collapsed": true
   },
   "outputs": [],
   "source": [
    "empty_list = []\n",
    "\n",
    "empty_list = list()"
   ]
  },
  {
   "cell_type": "code",
   "execution_count": null,
   "metadata": {},
   "outputs": [],
   "source": [
    "empty_list"
   ]
  },
  {
   "cell_type": "markdown",
   "metadata": {},
   "source": [
    "Other lists:"
   ]
  },
  {
   "cell_type": "code",
   "execution_count": null,
   "metadata": {
    "collapsed": true
   },
   "outputs": [],
   "source": [
    "num_list = [1,2,3,4,5]"
   ]
  },
  {
   "cell_type": "code",
   "execution_count": null,
   "metadata": {
    "collapsed": true
   },
   "outputs": [],
   "source": [
    "letter_list = [\"a\",\"b\",\"c\",\"x\",\"y\",\"z\"]"
   ]
  },
  {
   "cell_type": "code",
   "execution_count": null,
   "metadata": {},
   "outputs": [],
   "source": [
    "num_list"
   ]
  },
  {
   "cell_type": "code",
   "execution_count": null,
   "metadata": {},
   "outputs": [],
   "source": [
    "letter_list"
   ]
  },
  {
   "cell_type": "markdown",
   "metadata": {},
   "source": [
    "Things we can do with lists:"
   ]
  },
  {
   "cell_type": "code",
   "execution_count": null,
   "metadata": {},
   "outputs": [],
   "source": [
    "num_list + letter_list"
   ]
  },
  {
   "cell_type": "code",
   "execution_count": null,
   "metadata": {},
   "outputs": [],
   "source": [
    "num_list * 2"
   ]
  },
  {
   "cell_type": "code",
   "execution_count": null,
   "metadata": {},
   "outputs": [],
   "source": [
    "letter_list[3]"
   ]
  },
  {
   "cell_type": "code",
   "execution_count": null,
   "metadata": {},
   "outputs": [],
   "source": [
    "letter_list[::-1]"
   ]
  },
  {
   "cell_type": "code",
   "execution_count": null,
   "metadata": {},
   "outputs": [],
   "source": [
    "# In this case, following the order of operations, we first add the\n",
    "# two lists, and then we slice the result of the addition:\n",
    "(num_list + letter_list)[1::2]"
   ]
  },
  {
   "cell_type": "markdown",
   "metadata": {},
   "source": [
    "All well and good, but these operations all produce new lists.  The really interesting stuff is changing a list in place:"
   ]
  },
  {
   "cell_type": "code",
   "execution_count": null,
   "metadata": {
    "collapsed": true
   },
   "outputs": [],
   "source": [
    "num_list[2] = \"hi\""
   ]
  },
  {
   "cell_type": "code",
   "execution_count": null,
   "metadata": {},
   "outputs": [],
   "source": [
    "num_list"
   ]
  },
  {
   "cell_type": "code",
   "execution_count": null,
   "metadata": {},
   "outputs": [],
   "source": [
    "num_list[1:4] = [3,3]\n",
    "num_list"
   ]
  },
  {
   "cell_type": "code",
   "execution_count": null,
   "metadata": {},
   "outputs": [],
   "source": [
    "num_list.append(5)\n",
    "num_list"
   ]
  },
  {
   "cell_type": "markdown",
   "metadata": {},
   "source": [
    "In these case, I don't have to use the equal sign to reassign a new value because lists are \"mutable\", meaning you can change them in place.  Instead of having to create something new and save it over what is already stored to a variable, I can change the thing the thing the variable name is pointing to.  This doubtlessly confounds many people.  It was the bane of my existence for the first several months I worked with Python.\n",
    "\n",
    "How this manifested for me was wanting to copy a list, and then change the copy:"
   ]
  },
  {
   "cell_type": "code",
   "execution_count": null,
   "metadata": {
    "collapsed": true
   },
   "outputs": [],
   "source": [
    "a = [1,2,3]\n",
    "b = a"
   ]
  },
  {
   "cell_type": "code",
   "execution_count": null,
   "metadata": {},
   "outputs": [],
   "source": [
    "print(a,b)"
   ]
  },
  {
   "cell_type": "code",
   "execution_count": null,
   "metadata": {},
   "outputs": [],
   "source": [
    "a[2] = 50\n",
    "print(a,b)"
   ]
  },
  {
   "cell_type": "markdown",
   "metadata": {},
   "source": [
    "With immutable data types like strings and numbers, you're creating a new copy of these things every time you save it to something.  With mutable data types, like lists, you're not creating a new copy unless you very specifically tell Python to give you a new copy."
   ]
  },
  {
   "cell_type": "code",
   "execution_count": null,
   "metadata": {},
   "outputs": [],
   "source": [
    "c = b.copy()\n",
    "c[2] = 100\n",
    "print(b,c)"
   ]
  },
  {
   "cell_type": "markdown",
   "metadata": {},
   "source": [
    "Similar to appending, there is a command, extend.  Append is for when you want to add one element to a list.  Extend is for when you want to glue a bunch of objects to the end of your existing list.  We'll use b and c from above."
   ]
  },
  {
   "cell_type": "code",
   "execution_count": null,
   "metadata": {
    "collapsed": true
   },
   "outputs": [],
   "source": [
    "b.extend(c)"
   ]
  },
  {
   "cell_type": "markdown",
   "metadata": {},
   "source": [
    "If b and c were both three element lists, and .extend( ) glues one to the end of the other, we should now have a nice six element list."
   ]
  },
  {
   "cell_type": "code",
   "execution_count": null,
   "metadata": {},
   "outputs": [],
   "source": [
    "b"
   ]
  },
  {
   "cell_type": "markdown",
   "metadata": {},
   "source": [
    "Important function I almost forgot, how long is a list?  There's a useful function for figuring that out, len( )."
   ]
  },
  {
   "cell_type": "code",
   "execution_count": null,
   "metadata": {},
   "outputs": [],
   "source": [
    "len(b)"
   ]
  },
  {
   "cell_type": "markdown",
   "metadata": {},
   "source": [
    "[Back to Top](#TOC)"
   ]
  },
  {
   "cell_type": "markdown",
   "metadata": {},
   "source": [
    "## [Types](#TOC) <a name=\"types\"></a>\n",
    "\n",
    "Types.  What category does a thing belong to?  The things we've talked about so far: lists, strings, integers, floats.  If you were handed a variable you had never seen before, and didn't know what type it was, you could check what type it was with the type function:"
   ]
  },
  {
   "cell_type": "code",
   "execution_count": null,
   "metadata": {},
   "outputs": [],
   "source": [
    "type([1,2])"
   ]
  },
  {
   "cell_type": "code",
   "execution_count": null,
   "metadata": {},
   "outputs": [],
   "source": [
    "type(1)"
   ]
  },
  {
   "cell_type": "code",
   "execution_count": null,
   "metadata": {},
   "outputs": [],
   "source": [
    "type(1.0234)"
   ]
  },
  {
   "cell_type": "code",
   "execution_count": null,
   "metadata": {},
   "outputs": [],
   "source": [
    "type(\"hi, mom\")"
   ]
  },
  {
   "cell_type": "markdown",
   "metadata": {},
   "source": [
    "Note that the outputs above are special words.  They tell you what type a thing belongs to, but can also be used as a function to create something of that type:"
   ]
  },
  {
   "cell_type": "code",
   "execution_count": null,
   "metadata": {},
   "outputs": [],
   "source": [
    "# turn a string into a list\n",
    "list(\"letters\")"
   ]
  },
  {
   "cell_type": "code",
   "execution_count": null,
   "metadata": {},
   "outputs": [],
   "source": [
    "# turn a string into an int\n",
    "int(\"1\")"
   ]
  },
  {
   "cell_type": "code",
   "execution_count": null,
   "metadata": {},
   "outputs": [],
   "source": [
    "# turn a string into a float\n",
    "float(\"1.7890\")"
   ]
  },
  {
   "cell_type": "code",
   "execution_count": null,
   "metadata": {},
   "outputs": [],
   "source": [
    "# turn a float into a string\n",
    "str(12346798)"
   ]
  },
  {
   "cell_type": "code",
   "execution_count": null,
   "metadata": {},
   "outputs": [],
   "source": [
    "# turn a float into an int\n",
    "int(42.0 + 1.45)"
   ]
  },
  {
   "cell_type": "markdown",
   "metadata": {},
   "source": [
    "The int( ) function will round floats.  Note, if a number ends in .5, it appears that it consistently rounds down, but I wouldn't rely on that feature."
   ]
  },
  {
   "cell_type": "code",
   "execution_count": null,
   "metadata": {},
   "outputs": [],
   "source": [
    "int(.5),int(1.5),int(2.5),int(5.5)"
   ]
  },
  {
   "cell_type": "markdown",
   "metadata": {},
   "source": [
    "[Back to Top](#TOC)"
   ]
  },
  {
   "cell_type": "markdown",
   "metadata": {},
   "source": [
    "## [Exercises](#TOC) <a name=\"exercises\"></a>"
   ]
  },
  {
   "cell_type": "markdown",
   "metadata": {},
   "source": [
    "### Documentation exercise:\n",
    "\n",
    "We've talked a lot of different types: lists, strings, integers and floats.  Python \n",
    "\n",
    "Read through a list of all possible methods, which don't start with underscores, for strings, lists, and numbers.  You can do this by running the command help( ) on the relevent type (str,list,int).\n",
    "\n",
    "Look up the .join() and .split() methods for strings.  You can do this with google, or with shift+tab completion.\n",
    "\n",
    "Look up .pop(), .reverse(), and .sort() methods for lists.  What is the difference between the first two methods?  Is it a problem that .sort() returns None?"
   ]
  },
  {
   "cell_type": "code",
   "execution_count": null,
   "metadata": {
    "collapsed": true
   },
   "outputs": [],
   "source": [
    "# I'll get you started\n",
    "help(str)"
   ]
  },
  {
   "cell_type": "code",
   "execution_count": null,
   "metadata": {
    "collapsed": true
   },
   "outputs": [],
   "source": [
    "help()"
   ]
  },
  {
   "cell_type": "code",
   "execution_count": null,
   "metadata": {
    "collapsed": true
   },
   "outputs": [],
   "source": [
    "help()"
   ]
  },
  {
   "cell_type": "code",
   "execution_count": null,
   "metadata": {
    "collapsed": true
   },
   "outputs": [],
   "source": [
    "help()"
   ]
  },
  {
   "cell_type": "markdown",
   "metadata": {},
   "source": [
    "### Regular exercises:"
   ]
  },
  {
   "cell_type": "code",
   "execution_count": null,
   "metadata": {
    "collapsed": true
   },
   "outputs": [],
   "source": [
    "# find out how to split the following string on the @ or . character.\n",
    "# construct a list with three elements, [\"edu\",\"domain\",\"my_name\"]\n",
    "email = \"my_name@domain.edu\""
   ]
  },
  {
   "cell_type": "code",
   "execution_count": null,
   "metadata": {
    "collapsed": true
   },
   "outputs": [],
   "source": [
    "# with the list below, construct a new list which counts up to 5,\n",
    "# and then back down to 1.\n",
    "num_list = [1,2,3,4,5]"
   ]
  },
  {
   "cell_type": "code",
   "execution_count": null,
   "metadata": {
    "collapsed": true
   },
   "outputs": [],
   "source": [
    "# the collatz conjecture involves taking an integer and doing one of\n",
    "# two operations to the number.  If it is even, you divide by 2.\n",
    "# If it is odd, multiply by 3 and add 1.  Write a function which\n",
    "# takes in an integer, n, and returns either n/2 or 3n+1 depending\n",
    "# on the parity of n.\n",
    "def collatz_step( )"
   ]
  },
  {
   "cell_type": "code",
   "execution_count": null,
   "metadata": {
    "collapsed": true
   },
   "outputs": [],
   "source": [
    "# create a string which, when printed, puts each word on its own line\n",
    "text = \n",
    "\n",
    "print(text)"
   ]
  },
  {
   "cell_type": "markdown",
   "metadata": {},
   "source": [
    "If I wanted to print a grid of squares, I could do so a such:"
   ]
  },
  {
   "cell_type": "code",
   "execution_count": null,
   "metadata": {},
   "outputs": [],
   "source": [
    "top = \"*----*\"\n",
    "bottom = \"*----*\"\n",
    "body = \"|    |\"\n",
    "\n",
    "print(top)\n",
    "print(body)\n",
    "print(body)\n",
    "print(body)\n",
    "print(bottom)"
   ]
  },
  {
   "cell_type": "markdown",
   "metadata": {},
   "source": [
    "Use additon and multiplication of strings to create a 4x4 grid instead of the 1x1 grid I have above.  You'll probably want to create your own variables.  The goal here is to manually type out as few characters as possible.  This should be doable in 4 or 5 lines."
   ]
  },
  {
   "cell_type": "code",
   "execution_count": null,
   "metadata": {},
   "outputs": [],
   "source": []
  },
  {
   "cell_type": "markdown",
   "metadata": {},
   "source": [
    "[Back to Top](#TOC)"
   ]
  }
 ],
 "metadata": {
  "kernelspec": {
   "display_name": "Python 3",
   "language": "python",
   "name": "python3"
  },
  "language_info": {
   "codemirror_mode": {
    "name": "ipython",
    "version": 3
   },
   "file_extension": ".py",
   "mimetype": "text/x-python",
   "name": "python",
   "nbconvert_exporter": "python",
   "pygments_lexer": "ipython3",
   "version": "3.6.3"
  }
 },
 "nbformat": 4,
 "nbformat_minor": 2
}
