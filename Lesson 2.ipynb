{
 "cells": [
  {
   "cell_type": "markdown",
   "metadata": {},
   "source": [
    "# Python 3 crash course"
   ]
  },
  {
   "cell_type": "markdown",
   "metadata": {},
   "source": [
    "Notes:\n",
    "\n",
    "We'll hit a bunch of CS building blocks in this lesson: if statements, for loops, iterable objects, functions.\n",
    "\n",
    "Next lesson, dictionaries, and arrays?"
   ]
  },
  {
   "cell_type": "markdown",
   "metadata": {},
   "source": [
    "## If statements\n",
    "\n",
    "If statements are a building block of computer science.  Usually, it's if something is True, we do something.  Depending on how complicated life is, we might have a plan b lined up in case our condition is not true.  In Python, we can line up lots of statements of this nature.\n",
    "\n",
    "num = 3\n",
    "\n",
    "if num > 0:\n",
    "    print(\"positive\")\n",
    "\n",
    "Simple enough, but what if our number isn't positive?\n",
    "\n",
    "num = -3\n",
    "\n",
    "if num > 0:\n",
    "    print(\"positive\")\n",
    "\n",
    "That did nothing for us.  Fortunately, there's the else statement that lets us do something in the case our condition is false:\n",
    "\n",
    "num = -3\n",
    "\n",
    "if num > 0:\n",
    "    print(\"positive\")\n",
    "else:\n",
    "    print(\"non-positive\")\n",
    "\n",
    "In the code above, we have a condition after the if-statement, followed by code to execute.  Then we have an else statement, with no condition, and code to execute.  If the if-condition is false, we skip all the code associated with it, and go straight to the else statement.\n",
    "\n",
    "In some programming languages, you'd need to put parentheses around the boolean (num > 0), and you'd need to put brackets around all the code you want to execute when the if statement is true, but that isn't the case with Python.  With if statements, Python is looking between \"if\" and the \":\" to find its boolean.  No need for parentheses.  Then, everything that is indented four spaces inward from the if-statement is considered the code to run with that statement.  Once you come across a line without that indentation, subsequent indentation belongs to some other action (like the else statement).  What does the following do?\n",
    "\n",
    "num = -3\n",
    "\n",
    "if num > 0:\n",
    "    print(\"positive\")\n",
    "    print(\"Might be even, might not\")\n",
    "else:\n",
    "    print(\"non-positive\")\n",
    "    print(\"what do I want for dinner?\")\n",
    "    \n",
    "print(\"yolo\")\n",
    "\n",
    "How about this?\n",
    "\n",
    "num = .1\n",
    "\n",
    "if num > 0:\n",
    "    print(\"positive\")\n",
    "    print(\"Might be even, might not\")\n",
    "else:\n",
    "    print(\"non-positive\")\n",
    "    print(\"what do I want for dinner?\")\n",
    "    \n",
    "print(\"yolo\")"
   ]
  },
  {
   "cell_type": "markdown",
   "metadata": {},
   "source": [
    "## For loops"
   ]
  },
  {
   "cell_type": "markdown",
   "metadata": {},
   "source": [
    "A common need in computer science is to do the same thing over and over again.  Maybe you have a list of numbers and you want to square all of them.  Or maybe you have a bunch of letters, and you want to print them out with spaces between them.  Contrived examples, but here we go:"
   ]
  },
  {
   "cell_type": "code",
   "execution_count": 3,
   "metadata": {},
   "outputs": [
    {
     "name": "stdout",
     "output_type": "stream",
     "text": [
      "a  o  e  u  b  c  d  f  "
     ]
    }
   ],
   "source": [
    "for character in \"aoeubcdf\":\n",
    "    print(character,\" \",end = \"\")"
   ]
  },
  {
   "cell_type": "code",
   "execution_count": 5,
   "metadata": {},
   "outputs": [
    {
     "name": "stdout",
     "output_type": "stream",
     "text": [
      "0\n",
      "1\n",
      "4\n",
      "9\n",
      "16\n",
      "25\n"
     ]
    }
   ],
   "source": [
    "for number in [0,1,2,3,4,5]:\n",
    "    print(number**2)"
   ]
  },
  {
   "cell_type": "markdown",
   "metadata": {
    "collapsed": true
   },
   "source": [
    "In this second example, iterating over a list of number is so common that's there's a function, range( ), which gives you your \"list\" of numbers."
   ]
  },
  {
   "cell_type": "code",
   "execution_count": 7,
   "metadata": {},
   "outputs": [
    {
     "name": "stdout",
     "output_type": "stream",
     "text": [
      "0\n",
      "1\n",
      "4\n",
      "9\n",
      "16\n",
      "25\n"
     ]
    }
   ],
   "source": [
    "for number in range(6):\n",
    "    print(number**2)"
   ]
  },
  {
   "cell_type": "markdown",
   "metadata": {},
   "source": [
    "So, at this point, I have a few things worth noting.  One, a lot of people will look at these two examples and ask, \"how did Python know that it was characters in a string of text, or numbers in a list of numbers that it should expect.  The answer, it didn't.  The sytax for a for-loop is roughly:"
   ]
  },
  {
   "cell_type": "raw",
   "metadata": {},
   "source": [
    "for <variable-name> in <iterable-object>:\n",
    "    <do code>\n",
    "    <do more code>\n",
    "    <finish doing code>"
   ]
  },
  {
   "cell_type": "markdown",
   "metadata": {},
   "source": [
    "Point being, we could have picked any variable names other than character and number.  "
   ]
  },
  {
   "cell_type": "code",
   "execution_count": 11,
   "metadata": {},
   "outputs": [
    {
     "name": "stdout",
     "output_type": "stream",
     "text": [
      "a  o  e  u  b  c  d  f  \n",
      "0\n",
      "1\n",
      "4\n",
      "9\n",
      "16\n",
      "25\n"
     ]
    }
   ],
   "source": [
    "for i in \"aoeubcdf\":\n",
    "    print(i,\" \",end = \"\")\n",
    "    \n",
    "print()\n",
    "for aoeuntshaouesnthaoeu in range(6):\n",
    "    print(aoeuntshaouesnthaoeu**2)"
   ]
  },
  {
   "cell_type": "markdown",
   "metadata": {},
   "source": [
    "Above, the variable names are terrible, but they work.  Python simply needs any viable variable name to store the pieces of the object it's going to break up and iterate over.  So, strong suggestion here, use a variable name which makes sense for the data you're working with.  One of the strengths of Python over other languages is its readability, so don't ruin that by using shitty variable names.  Using good variable names will help you keep track of what you're doing, reduce the number of comments you need to leave, and save you time."
   ]
  },
  {
   "cell_type": "markdown",
   "metadata": {},
   "source": [
    "These for loops somewhat lead to another question, what can you break apart with a for loop?  Anything that is an \"iterable object\" can be broken apart by a for-loop.  Strings, which can be sliced into pieces, can be broken into distinct pieces for iteration.  Lists, which have a very clear order, can be broken into pieces.  On the other hand, numbers, which don't have pieces, can't be iterated over, they're not iterable objects.  But!  That's where things like range( ) come from.  range( ) creates the list of numbers that you might want operate over in succession."
   ]
  },
  {
   "cell_type": "code",
   "execution_count": 12,
   "metadata": {},
   "outputs": [
    {
     "ename": "TypeError",
     "evalue": "'int' object is not iterable",
     "output_type": "error",
     "traceback": [
      "\u001b[1;31m---------------------------------------------------------------------------\u001b[0m",
      "\u001b[1;31mTypeError\u001b[0m                                 Traceback (most recent call last)",
      "\u001b[1;32m<ipython-input-12-5e61ba74da5d>\u001b[0m in \u001b[0;36m<module>\u001b[1;34m()\u001b[0m\n\u001b[0;32m      1\u001b[0m \u001b[1;31m# Doesn't work\u001b[0m\u001b[1;33m\u001b[0m\u001b[1;33m\u001b[0m\u001b[0m\n\u001b[1;32m----> 2\u001b[1;33m \u001b[1;32mfor\u001b[0m \u001b[0mi\u001b[0m \u001b[1;32min\u001b[0m \u001b[1;36m8\u001b[0m\u001b[1;33m:\u001b[0m\u001b[1;33m\u001b[0m\u001b[0m\n\u001b[0m\u001b[0;32m      3\u001b[0m     \u001b[0mprint\u001b[0m\u001b[1;33m(\u001b[0m\u001b[0mi\u001b[0m\u001b[1;33m)\u001b[0m\u001b[1;33m\u001b[0m\u001b[0m\n",
      "\u001b[1;31mTypeError\u001b[0m: 'int' object is not iterable"
     ]
    }
   ],
   "source": [
    "# Doesn't work\n",
    "for i in 8:\n",
    "    print(i)"
   ]
  },
  {
   "cell_type": "code",
   "execution_count": 13,
   "metadata": {},
   "outputs": [
    {
     "name": "stdout",
     "output_type": "stream",
     "text": [
      "0\n",
      "1\n",
      "2\n",
      "3\n",
      "4\n",
      "5\n",
      "6\n",
      "7\n"
     ]
    }
   ],
   "source": [
    "# Does work\n",
    "for i in range(8):\n",
    "    print(i)"
   ]
  },
  {
   "cell_type": "markdown",
   "metadata": {},
   "source": [
    "More things you should know about for loops.  You can break out of them with the break command."
   ]
  },
  {
   "cell_type": "code",
   "execution_count": 14,
   "metadata": {},
   "outputs": [
    {
     "name": "stdout",
     "output_type": "stream",
     "text": [
      "0\n",
      "1\n",
      "2\n",
      "3\n",
      "4\n",
      "5\n",
      "6\n",
      "7\n",
      "8\n",
      "9\n",
      "10\n",
      "11\n"
     ]
    }
   ],
   "source": [
    "for i in range(10000):\n",
    "    print(i)\n",
    "    if i > 10:\n",
    "        break"
   ]
  },
  {
   "cell_type": "markdown",
   "metadata": {},
   "source": [
    "The break statement will break you out of the nearest loop, so if you're in a doubly nested for loop, the break command will only get you out of one of the loops:"
   ]
  },
  {
   "cell_type": "code",
   "execution_count": 23,
   "metadata": {},
   "outputs": [
    {
     "name": "stdout",
     "output_type": "stream",
     "text": [
      "(0, 0) \n",
      "(1, 0) (1, 1) \n",
      "(2, 0) (2, 1) (2, 2) \n",
      "(3, 0) (3, 1) (3, 2) (3, 3) \n",
      "(4, 0) (4, 1) (4, 2) (4, 3) (4, 4) \n",
      "(5, 0) (5, 1) (5, 2) (5, 3) (5, 4) (5, 5) \n",
      "(6, 0) (6, 1) (6, 2) (6, 3) (6, 4) (6, 5) (6, 6) \n",
      "(7, 0) (7, 1) (7, 2) (7, 3) (7, 4) (7, 5) (7, 6) (7, 7) \n",
      "(8, 0) (8, 1) (8, 2) (8, 3) (8, 4) (8, 5) (8, 6) (8, 7) (8, 8) \n",
      "(9, 0) (9, 1) (9, 2) (9, 3) (9, 4) (9, 5) (9, 6) (9, 7) (9, 8) (9, 9) "
     ]
    }
   ],
   "source": [
    "for i in range(10):\n",
    "    for j in range(10):\n",
    "        if j > i:\n",
    "            print()\n",
    "            break\n",
    "        print((i,j),end = \" \")"
   ]
  },
  {
   "cell_type": "markdown",
   "metadata": {},
   "source": [
    "Usually, coming from another language, people prefer to use while loops when they need to loop until a condition is true, instead of using the break command.  But, program in Python long enough, and you have a tendency to turn things into for-loops.  The guy who invented python stresses that they're better, often times faster, but you _can_ use while loops if you'd like."
   ]
  },
  {
   "cell_type": "code",
   "execution_count": 24,
   "metadata": {},
   "outputs": [
    {
     "name": "stdout",
     "output_type": "stream",
     "text": [
      "(0, 0)  \n",
      "(1, 0)  (1, 1)  \n",
      "(2, 0)  (2, 1)  (2, 2)  \n",
      "(3, 0)  (3, 1)  (3, 2)  (3, 3)  \n",
      "(4, 0)  (4, 1)  (4, 2)  (4, 3)  (4, 4)  \n",
      "(5, 0)  (5, 1)  (5, 2)  (5, 3)  (5, 4)  (5, 5)  \n",
      "(6, 0)  (6, 1)  (6, 2)  (6, 3)  (6, 4)  (6, 5)  (6, 6)  \n",
      "(7, 0)  (7, 1)  (7, 2)  (7, 3)  (7, 4)  (7, 5)  (7, 6)  (7, 7)  \n",
      "(8, 0)  (8, 1)  (8, 2)  (8, 3)  (8, 4)  (8, 5)  (8, 6)  (8, 7)  (8, 8)  \n",
      "(9, 0)  (9, 1)  (9, 2)  (9, 3)  (9, 4)  (9, 5)  (9, 6)  (9, 7)  (9, 8)  (9, 9)  \n"
     ]
    }
   ],
   "source": [
    "i = 0\n",
    "j = 0\n",
    "while i < 10:\n",
    "    while j < i+1:\n",
    "        print((i,j),\" \",end = \"\")\n",
    "        j = j + 1\n",
    "    print()\n",
    "    i = i + 1\n",
    "    j = 0\n",
    "        "
   ]
  },
  {
   "cell_type": "markdown",
   "metadata": {},
   "source": [
    "Same thing, but we have to check a lot more boolean values and juggle more constants.  Admittedly, we had to check some booleans with the for loop, but those could have been averted:"
   ]
  },
  {
   "cell_type": "code",
   "execution_count": 26,
   "metadata": {},
   "outputs": [
    {
     "name": "stdout",
     "output_type": "stream",
     "text": [
      "(0, 0) \n",
      "(1, 0) (1, 1) \n",
      "(2, 0) (2, 1) (2, 2) \n",
      "(3, 0) (3, 1) (3, 2) (3, 3) \n",
      "(4, 0) (4, 1) (4, 2) (4, 3) (4, 4) \n",
      "(5, 0) (5, 1) (5, 2) (5, 3) (5, 4) (5, 5) \n",
      "(6, 0) (6, 1) (6, 2) (6, 3) (6, 4) (6, 5) (6, 6) \n",
      "(7, 0) (7, 1) (7, 2) (7, 3) (7, 4) (7, 5) (7, 6) (7, 7) \n",
      "(8, 0) (8, 1) (8, 2) (8, 3) (8, 4) (8, 5) (8, 6) (8, 7) (8, 8) \n",
      "(9, 0) (9, 1) (9, 2) (9, 3) (9, 4) (9, 5) (9, 6) (9, 7) (9, 8) (9, 9) \n"
     ]
    }
   ],
   "source": [
    "for i in range(10):\n",
    "    for j in range(i+1):\n",
    "        print((i,j),end = \" \")\n",
    "    print()"
   ]
  },
  {
   "cell_type": "markdown",
   "metadata": {},
   "source": [
    "This last implementation is the \"best\" of the three because it cuts out the unnecessary boolean check and runs the fastest (while not making the code needlessly complex)."
   ]
  },
  {
   "cell_type": "code",
   "execution_count": null,
   "metadata": {
    "collapsed": true
   },
   "outputs": [],
   "source": []
  },
  {
   "cell_type": "code",
   "execution_count": null,
   "metadata": {
    "collapsed": true
   },
   "outputs": [],
   "source": []
  },
  {
   "cell_type": "code",
   "execution_count": null,
   "metadata": {
    "collapsed": true
   },
   "outputs": [],
   "source": []
  },
  {
   "cell_type": "code",
   "execution_count": null,
   "metadata": {
    "collapsed": true
   },
   "outputs": [],
   "source": []
  },
  {
   "cell_type": "code",
   "execution_count": null,
   "metadata": {
    "collapsed": true
   },
   "outputs": [],
   "source": []
  },
  {
   "cell_type": "code",
   "execution_count": null,
   "metadata": {
    "collapsed": true
   },
   "outputs": [],
   "source": []
  },
  {
   "cell_type": "code",
   "execution_count": null,
   "metadata": {
    "collapsed": true
   },
   "outputs": [],
   "source": []
  },
  {
   "cell_type": "code",
   "execution_count": null,
   "metadata": {
    "collapsed": true
   },
   "outputs": [],
   "source": []
  },
  {
   "cell_type": "markdown",
   "metadata": {},
   "source": [
    "## More on variables:\n",
    "\n",
    "Things to know about variables.  You're given some leeway in what you can use as a variable name, but there are guidelines (some strictly enforced, others just very well-intentioned suggestions).  They **should** to start with a letter.  They can be made up of letters and numbers.  They can't start with a number.  They shouldn't start with a capital letters (unless they're classes).  Underscores are viable, but don't start with underscores.  If you want to camel case within names, that's up to you.\n",
    "\n",
    "My strongest suggestion about variable names is that they should be concise, but also be descriptive.  One of the advantages of Python is that it is easy to read, and easy for humans to interpret, but this notion falls apart if you don't do a good job picking your variable names.\n"
   ]
  },
  {
   "cell_type": "code",
   "execution_count": null,
   "metadata": {
    "collapsed": true
   },
   "outputs": [],
   "source": []
  }
 ],
 "metadata": {
  "kernelspec": {
   "display_name": "Python 3",
   "language": "python",
   "name": "python3"
  },
  "language_info": {
   "codemirror_mode": {
    "name": "ipython",
    "version": 3
   },
   "file_extension": ".py",
   "mimetype": "text/x-python",
   "name": "python",
   "nbconvert_exporter": "python",
   "pygments_lexer": "ipython3",
   "version": "3.6.3"
  }
 },
 "nbformat": 4,
 "nbformat_minor": 2
}
