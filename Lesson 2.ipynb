{
 "cells": [
  {
   "cell_type": "markdown",
   "metadata": {},
   "source": [
    "# Python 3 crash course"
   ]
  },
  {
   "cell_type": "markdown",
   "metadata": {},
   "source": [
    "Notes:\n",
    "\n",
    "We'll hit a bunch of CS building blocks in this lesson: for/while loops, iterable objects, dictionaries."
   ]
  },
  {
   "cell_type": "markdown",
   "metadata": {},
   "source": [
    "# Table of contents <a name=\"TOC\"></a>\n",
    "1. [Comparisons/booleans/stuff](#comparisons)\n",
    "2. [For-loops](#for)\n",
    "3. [While-loops](#while)\n",
    "4. [Variables](#variables)\n",
    "4. [Dictionaries](#dictionaries)\n",
    "5. [Exercises](#exercises)"
   ]
  },
  {
   "cell_type": "markdown",
   "metadata": {},
   "source": [
    "## [Comparisons, booleans, stuff ](#TOC) <a name=\"comparisons\"></a>\n",
    "\n",
    "Now that we have lists and strings and if-statements, a few very useful things to talk about.  First off, True and False."
   ]
  },
  {
   "cell_type": "code",
   "execution_count": null,
   "metadata": {
    "collapsed": true
   },
   "outputs": [],
   "source": [
    "True"
   ]
  },
  {
   "cell_type": "code",
   "execution_count": null,
   "metadata": {
    "collapsed": true
   },
   "outputs": [],
   "source": [
    "False"
   ]
  },
  {
   "cell_type": "markdown",
   "metadata": {},
   "source": [
    "True and False, like in most programming languages, are special values.  In Python, they're both spelled with a leading capital letter.  We can do mathematical operations with them:"
   ]
  },
  {
   "cell_type": "code",
   "execution_count": 1,
   "metadata": {},
   "outputs": [
    {
     "data": {
      "text/plain": [
       "False"
      ]
     },
     "execution_count": 1,
     "metadata": {},
     "output_type": "execute_result"
    }
   ],
   "source": [
    "True and False"
   ]
  },
  {
   "cell_type": "code",
   "execution_count": 2,
   "metadata": {},
   "outputs": [
    {
     "data": {
      "text/plain": [
       "True"
      ]
     },
     "execution_count": 2,
     "metadata": {},
     "output_type": "execute_result"
    }
   ],
   "source": [
    "True or False"
   ]
  },
  {
   "cell_type": "code",
   "execution_count": 3,
   "metadata": {},
   "outputs": [
    {
     "ename": "SyntaxError",
     "evalue": "invalid syntax (<ipython-input-3-cc17028e693b>, line 1)",
     "output_type": "error",
     "traceback": [
      "\u001b[1;36m  File \u001b[1;32m\"<ipython-input-3-cc17028e693b>\"\u001b[1;36m, line \u001b[1;32m1\u001b[0m\n\u001b[1;33m    True xor False\u001b[0m\n\u001b[1;37m           ^\u001b[0m\n\u001b[1;31mSyntaxError\u001b[0m\u001b[1;31m:\u001b[0m invalid syntax\n"
     ]
    }
   ],
   "source": [
    "True xor False"
   ]
  },
  {
   "cell_type": "markdown",
   "metadata": {},
   "source": [
    "There isn't an operator \"xor\", but do you remember bitwise xor in the previous lesson?  Would you believe me if I told you it's a polymorphism that works on numbers *and* on boolean truth values?"
   ]
  },
  {
   "cell_type": "code",
   "execution_count": 6,
   "metadata": {},
   "outputs": [
    {
     "data": {
      "text/plain": [
       "True"
      ]
     },
     "execution_count": 6,
     "metadata": {},
     "output_type": "execute_result"
    }
   ],
   "source": [
    "True ^ False"
   ]
  },
  {
   "cell_type": "code",
   "execution_count": 7,
   "metadata": {},
   "outputs": [
    {
     "data": {
      "text/plain": [
       "False"
      ]
     },
     "execution_count": 7,
     "metadata": {},
     "output_type": "execute_result"
    }
   ],
   "source": [
    "True ^ True"
   ]
  },
  {
   "cell_type": "markdown",
   "metadata": {},
   "source": [
    "A very important logical operator:"
   ]
  },
  {
   "cell_type": "code",
   "execution_count": 8,
   "metadata": {},
   "outputs": [
    {
     "data": {
      "text/plain": [
       "False"
      ]
     },
     "execution_count": 8,
     "metadata": {},
     "output_type": "execute_result"
    }
   ],
   "source": [
    "not True"
   ]
  },
  {
   "cell_type": "markdown",
   "metadata": {},
   "source": [
    "And equality:"
   ]
  },
  {
   "cell_type": "code",
   "execution_count": 9,
   "metadata": {},
   "outputs": [
    {
     "data": {
      "text/plain": [
       "False"
      ]
     },
     "execution_count": 9,
     "metadata": {},
     "output_type": "execute_result"
    }
   ],
   "source": [
    "True == False"
   ]
  },
  {
   "cell_type": "code",
   "execution_count": 10,
   "metadata": {},
   "outputs": [
    {
     "ename": "SyntaxError",
     "evalue": "invalid syntax (<ipython-input-10-5ef8078e9e47>, line 1)",
     "output_type": "error",
     "traceback": [
      "\u001b[1;36m  File \u001b[1;32m\"<ipython-input-10-5ef8078e9e47>\"\u001b[1;36m, line \u001b[1;32m1\u001b[0m\n\u001b[1;33m    True == not False\u001b[0m\n\u001b[1;37m              ^\u001b[0m\n\u001b[1;31mSyntaxError\u001b[0m\u001b[1;31m:\u001b[0m invalid syntax\n"
     ]
    }
   ],
   "source": [
    "True == not False"
   ]
  },
  {
   "cell_type": "markdown",
   "metadata": {},
   "source": [
    "In the above example, we need parentheses to get the right order of operations"
   ]
  },
  {
   "cell_type": "code",
   "execution_count": 11,
   "metadata": {},
   "outputs": [
    {
     "data": {
      "text/plain": [
       "True"
      ]
     },
     "execution_count": 11,
     "metadata": {},
     "output_type": "execute_result"
    }
   ],
   "source": [
    "True == (not False)"
   ]
  },
  {
   "cell_type": "markdown",
   "metadata": {},
   "source": [
    "And \"not equal\" shows up often enough that we have special notation for that:"
   ]
  },
  {
   "cell_type": "code",
   "execution_count": 12,
   "metadata": {},
   "outputs": [
    {
     "data": {
      "text/plain": [
       "True"
      ]
     },
     "execution_count": 12,
     "metadata": {},
     "output_type": "execute_result"
    }
   ],
   "source": [
    "True != False"
   ]
  },
  {
   "cell_type": "markdown",
   "metadata": {},
   "source": [
    "We can compare booleans with constructed booleans:"
   ]
  },
  {
   "cell_type": "code",
   "execution_count": null,
   "metadata": {
    "collapsed": true
   },
   "outputs": [],
   "source": [
    "num = 0\n",
    "\n",
    "True == (num > -5)"
   ]
  },
  {
   "cell_type": "markdown",
   "metadata": {},
   "source": [
    "That's not so surprising.  Python evaluates the expression on the right, sees that it's True, and decides that True does equal True.  For something a bit more bizarre:"
   ]
  },
  {
   "cell_type": "code",
   "execution_count": 13,
   "metadata": {},
   "outputs": [
    {
     "data": {
      "text/plain": [
       "5"
      ]
     },
     "execution_count": 13,
     "metadata": {},
     "output_type": "execute_result"
    }
   ],
   "source": [
    "True and 5"
   ]
  },
  {
   "cell_type": "code",
   "execution_count": 14,
   "metadata": {},
   "outputs": [
    {
     "data": {
      "text/plain": [
       "[]"
      ]
     },
     "execution_count": 14,
     "metadata": {},
     "output_type": "execute_result"
    }
   ],
   "source": [
    "False or []"
   ]
  },
  {
   "cell_type": "markdown",
   "metadata": {},
   "source": [
    "Python has a sort of lazy evaluation, at least for Booleans.  In the case 2 lines above, Python is evaluating a logical and.  After checking the first value is True, because the logical connector is and, Python knows it can simply return the truth value of whatever the right side of the expression is.  A similar thing is going on with the immediately preceding example.  If two things are connected with logical or, and the first thing is False, the second thing determines the truth value of the expression, and Python just returns the second thing.\n",
    "\n",
    "At this point, you might want to complain that 5 is not True, and the empty set is not False."
   ]
  },
  {
   "cell_type": "code",
   "execution_count": 15,
   "metadata": {},
   "outputs": [
    {
     "data": {
      "text/plain": [
       "False"
      ]
     },
     "execution_count": 15,
     "metadata": {},
     "output_type": "execute_result"
    }
   ],
   "source": [
    "[] == False"
   ]
  },
  {
   "cell_type": "markdown",
   "metadata": {},
   "source": [
    "Clearly you're right, these things are not the same.  But, for evaluating boolean statements, most objects in Python will give a boolean value if you coerce it out of them.  In particular, for numbers, lists, and strings, which we've seen so far, 0, [] and \"\" all categorize as False in a boolean expression.  You can see that these are the empty or zero cases of these data types, and this reasoning extends itself to other data structures.  ... and if 0 or empty objects categorize as False, non-zero or non-empty categorize as True."
   ]
  },
  {
   "cell_type": "code",
   "execution_count": 16,
   "metadata": {},
   "outputs": [
    {
     "data": {
      "text/plain": [
       "True"
      ]
     },
     "execution_count": 16,
     "metadata": {},
     "output_type": "execute_result"
    }
   ],
   "source": [
    "True or []"
   ]
  },
  {
   "cell_type": "code",
   "execution_count": 17,
   "metadata": {},
   "outputs": [
    {
     "data": {
      "text/plain": [
       "False"
      ]
     },
     "execution_count": 17,
     "metadata": {},
     "output_type": "execute_result"
    }
   ],
   "source": [
    "1 and False"
   ]
  },
  {
   "cell_type": "code",
   "execution_count": 18,
   "metadata": {},
   "outputs": [
    {
     "data": {
      "text/plain": [
       "1"
      ]
     },
     "execution_count": 18,
     "metadata": {},
     "output_type": "execute_result"
    }
   ],
   "source": [
    "1 or False"
   ]
  },
  {
   "cell_type": "code",
   "execution_count": 19,
   "metadata": {},
   "outputs": [
    {
     "data": {
      "text/plain": [
       "[1]"
      ]
     },
     "execution_count": 19,
     "metadata": {},
     "output_type": "execute_result"
    }
   ],
   "source": [
    "[1] or False"
   ]
  },
  {
   "cell_type": "markdown",
   "metadata": {},
   "source": [
    "**Mini quiz:**"
   ]
  },
  {
   "cell_type": "code",
   "execution_count": null,
   "metadata": {
    "collapsed": true
   },
   "outputs": [],
   "source": [
    "# what does this return\n",
    "\n",
    "if []:\n",
    "    print(\"empty set\")\n",
    "elif \"\":\n",
    "    print(\"empty string\")\n",
    "elif 42:\n",
    "    print(\"forty-two\")\n",
    "else:\n",
    "    print(\"hi :-)\")"
   ]
  },
  {
   "cell_type": "code",
   "execution_count": null,
   "metadata": {
    "collapsed": true
   },
   "outputs": [],
   "source": [
    "# and try playing around with this.  Define different data structures,\n",
    "# both empty and not empty to test this.\n",
    "\n",
    "thing = <pick something to go here>\n",
    "\n",
    "if thing:\n",
    "    print(\"Thing, {}, is True\".format(thing))\n",
    "else:\n",
    "    print(\"Thing, {}, is False\".format(thing))\n",
    "\n",
    "\n"
   ]
  },
  {
   "cell_type": "raw",
   "metadata": {},
   "source": [
    "Related to boolean operators, there's another operator which is used for boolean evalutions, in."
   ]
  },
  {
   "cell_type": "code",
   "execution_count": null,
   "metadata": {
    "collapsed": true
   },
   "outputs": [],
   "source": [
    "# is something in a list?\n",
    "1 in [1,2,3]"
   ]
  },
  {
   "cell_type": "code",
   "execution_count": null,
   "metadata": {
    "collapsed": true
   },
   "outputs": [],
   "source": [
    "5 in [1,2,3]"
   ]
  },
  {
   "cell_type": "code",
   "execution_count": null,
   "metadata": {
    "collapsed": true
   },
   "outputs": [],
   "source": [
    "# is something in a string\n",
    "\"a\" in \"abcdef\""
   ]
  },
  {
   "cell_type": "code",
   "execution_count": null,
   "metadata": {
    "collapsed": true
   },
   "outputs": [],
   "source": [
    "\"A\" in \"abcdef\""
   ]
  },
  {
   "cell_type": "code",
   "execution_count": null,
   "metadata": {
    "collapsed": true
   },
   "outputs": [],
   "source": [
    "\"i\" in \"team\""
   ]
  },
  {
   "cell_type": "code",
   "execution_count": null,
   "metadata": {
    "collapsed": true
   },
   "outputs": [],
   "source": [
    "\"ass\" in \"assume\""
   ]
  },
  {
   "cell_type": "code",
   "execution_count": null,
   "metadata": {
    "collapsed": true
   },
   "outputs": [],
   "source": [
    "\"test\" in \"protest\""
   ]
  },
  {
   "cell_type": "code",
   "execution_count": null,
   "metadata": {
    "collapsed": true
   },
   "outputs": [],
   "source": [
    "\"AAA\" in \"AAGGCCACGT\""
   ]
  },
  {
   "cell_type": "code",
   "execution_count": 20,
   "metadata": {},
   "outputs": [
    {
     "data": {
      "text/plain": [
       "False"
      ]
     },
     "execution_count": 20,
     "metadata": {},
     "output_type": "execute_result"
    }
   ],
   "source": [
    "[1,2] in [1,2,3]"
   ]
  },
  {
   "cell_type": "markdown",
   "metadata": {},
   "source": [
    "Make sure all of the above, especially the immediately preceding, make sense.  Yes?"
   ]
  },
  {
   "cell_type": "markdown",
   "metadata": {},
   "source": [
    "And after this short diversion into booleans and comparisons and stuff, a very powerful tool.  Note, \"in\" will be used slightly differently in this context.  It's another polymorphism thing where different data types and different constructs cause the word to function in a different manner (just a heads up)."
   ]
  },
  {
   "cell_type": "markdown",
   "metadata": {},
   "source": [
    "## [For-loops ](#TOC) <a name=\"for\"></a>"
   ]
  },
  {
   "cell_type": "markdown",
   "metadata": {},
   "source": [
    "A common need in computer science is to do the same thing over and over again.  Maybe you have a list of numbers and you want to square all of them.  Or maybe you have a bunch of letters, and you want to print them out with spaces between them.  Contrived examples, but here we go:"
   ]
  },
  {
   "cell_type": "code",
   "execution_count": 21,
   "metadata": {},
   "outputs": [
    {
     "name": "stdout",
     "output_type": "stream",
     "text": [
      "a o e u b c d f "
     ]
    }
   ],
   "source": [
    "for character in \"aoeubcdf\":\n",
    "    print(character,end = \" \")"
   ]
  },
  {
   "cell_type": "code",
   "execution_count": 22,
   "metadata": {},
   "outputs": [
    {
     "name": "stdout",
     "output_type": "stream",
     "text": [
      "0\n",
      "1\n",
      "4\n",
      "9\n",
      "16\n",
      "25\n"
     ]
    }
   ],
   "source": [
    "for number in [0,1,2,3,4,5]:\n",
    "    print(number**2)"
   ]
  },
  {
   "cell_type": "markdown",
   "metadata": {
    "collapsed": true
   },
   "source": [
    "In this second example, iterating over a list of numbers is so common that's there's a function, range( ), which gives you your \"list\" of numbers."
   ]
  },
  {
   "cell_type": "code",
   "execution_count": null,
   "metadata": {
    "collapsed": true
   },
   "outputs": [],
   "source": [
    "for number in range(6):\n",
    "    print(number**2)"
   ]
  },
  {
   "cell_type": "markdown",
   "metadata": {},
   "source": [
    "**Mini-exercise**: explore the documentation for range().  By default, range(n) will successively give you all the integers from 0 to n-1, but if you need a different sequence of integers, range() might still be able to accomodate your needs."
   ]
  },
  {
   "cell_type": "code",
   "execution_count": null,
   "metadata": {
    "collapsed": true
   },
   "outputs": [],
   "source": [
    "# write a for-loop which prints the cube of every multiple of 3 from -3 to 15, except 6.\n",
    "\n",
    "\n"
   ]
  },
  {
   "cell_type": "markdown",
   "metadata": {},
   "source": [
    "So, at this point, I have a few things worth noting.  One, a lot of people will look at these two examples and ask, \"how did Python know that it was characters in a string of text, or numbers in a list of numbers that it should expect.  The answer, it didn't.  The sytax for a for-loop is roughly:"
   ]
  },
  {
   "cell_type": "raw",
   "metadata": {},
   "source": [
    "for <variable-name> in <iterable-object>:\n",
    "    <do code>\n",
    "    <do more code>\n",
    "    <finish doing code and loop back up to the top>"
   ]
  },
  {
   "cell_type": "markdown",
   "metadata": {},
   "source": [
    "Point being, we could have picked any variable names other than character and number.  "
   ]
  },
  {
   "cell_type": "code",
   "execution_count": null,
   "metadata": {
    "collapsed": true
   },
   "outputs": [],
   "source": [
    "for calvinball in \"aoeubcdf\":\n",
    "    print(calvinball,end = \" \")\n",
    "    "
   ]
  },
  {
   "cell_type": "code",
   "execution_count": null,
   "metadata": {
    "collapsed": true
   },
   "outputs": [],
   "source": [
    "print()\n",
    "for aoeuntshaouesnthaoeu in range(6):\n",
    "    print(aoeuntshaouesnthaoeu**2)"
   ]
  },
  {
   "cell_type": "markdown",
   "metadata": {},
   "source": [
    "Above, the variable names are terrible, but they work.  Python simply needs any viable variable name to store the pieces of the object it's going to break up and iterate over.  Strong suggestion here, use a variable name which makes sense for the data you're working with.  One of the strengths of Python over other languages is its readability, so don't ruin that by using shitty variable names.  Using good variable names will help you keep track of what you're doing, reduce the number of comments you need to leave, and save you time."
   ]
  },
  {
   "cell_type": "markdown",
   "metadata": {},
   "source": [
    "All these for-loops somewhat lead to another question, what can you break apart with a for-loop?  Anything that is an \"iterable object\" can be broken apart by a for-loop.  Strings, which can be sliced into pieces (individual characters), can be broken into distinct pieces for iteration.  Lists, which have very clear segments, can be iterated over.  On the other hand, numbers, which don't have pieces, can't be iterated over, they're not iterable objects.  But!  That's where things like range( ) come from.  range( ) creates the list of numbers that you might want operate over in succession."
   ]
  },
  {
   "cell_type": "code",
   "execution_count": null,
   "metadata": {
    "collapsed": true
   },
   "outputs": [],
   "source": [
    "# Doesn't work\n",
    "for i in 8:\n",
    "    print(i)"
   ]
  },
  {
   "cell_type": "code",
   "execution_count": null,
   "metadata": {
    "collapsed": true
   },
   "outputs": [],
   "source": [
    "# Does work\n",
    "for i in range(8):\n",
    "    print(i)"
   ]
  },
  {
   "cell_type": "markdown",
   "metadata": {},
   "source": [
    "More things you should know about for loops: if you want to stop a loop early, you can break out of it with the break command.  Printing 10k lines would be a real hazard:"
   ]
  },
  {
   "cell_type": "code",
   "execution_count": null,
   "metadata": {
    "collapsed": true
   },
   "outputs": [],
   "source": [
    "for i in range(10000):\n",
    "    print(i)\n",
    "    if i > 10:\n",
    "        break"
   ]
  },
  {
   "cell_type": "markdown",
   "metadata": {},
   "source": [
    "I'm really glad we stopped after just 11 iterations.  How could you change the code above so that we stop after 21 prints instead of 11?"
   ]
  },
  {
   "cell_type": "code",
   "execution_count": null,
   "metadata": {
    "collapsed": true
   },
   "outputs": [],
   "source": [
    "# same code as above, but here for you to edit:\n",
    "\n",
    "for i in range(10000):\n",
    "    print(i)\n",
    "    if i > 10:\n",
    "        break"
   ]
  },
  {
   "cell_type": "markdown",
   "metadata": {},
   "source": [
    "If you have nested loops, the break statement will break you out of the nearest loop, so if you're in a doubly nested for loop, the break command will only get you out of the inner most loop you are in:"
   ]
  },
  {
   "cell_type": "code",
   "execution_count": 23,
   "metadata": {},
   "outputs": [
    {
     "name": "stdout",
     "output_type": "stream",
     "text": [
      "(0, 0) \n",
      "(1, 0) (1, 1) \n",
      "(2, 0) (2, 1) (2, 2) \n",
      "(3, 0) (3, 1) (3, 2) (3, 3) \n",
      "(4, 0) (4, 1) (4, 2) (4, 3) (4, 4) \n",
      "(5, 0) (5, 1) (5, 2) (5, 3) (5, 4) (5, 5) \n",
      "(6, 0) (6, 1) (6, 2) (6, 3) (6, 4) (6, 5) (6, 6) \n",
      "(7, 0) (7, 1) (7, 2) (7, 3) (7, 4) (7, 5) (7, 6) (7, 7) \n",
      "(8, 0) (8, 1) (8, 2) (8, 3) (8, 4) (8, 5) (8, 6) (8, 7) (8, 8) \n",
      "(9, 0) (9, 1) (9, 2) (9, 3) (9, 4) (9, 5) (9, 6) (9, 7) (9, 8) (9, 9) \n"
     ]
    }
   ],
   "source": [
    "for i in range(10):\n",
    "    \n",
    "    # this loop could have j range up to 10 ...\n",
    "    for j in range(10):\n",
    "        \n",
    "        # except we break out of the loop whenever j exceeds i\n",
    "        if j > i:\n",
    "            break\n",
    "        print((i,j),end = \" \")\n",
    "        \n",
    "    # what is this here for?\n",
    "    print()"
   ]
  },
  {
   "cell_type": "markdown",
   "metadata": {},
   "source": [
    "## [While](#TOC) <a name=\"while\"></a>"
   ]
  },
  {
   "cell_type": "markdown",
   "metadata": {},
   "source": [
    "Usually, coming from another language, people prefer to use while-loops when they need to loop until a condition is true, instead of using the break command.  But, program in Python long enough, and you have a tendency to turn things into for-loops.  The guy who invented python stresses that they're better, and often times faster, but you _can_ use while loops if you'd like."
   ]
  },
  {
   "cell_type": "code",
   "execution_count": null,
   "metadata": {
    "collapsed": true
   },
   "outputs": [],
   "source": [
    "i = 0\n",
    "j = 0\n",
    "while i < 10:\n",
    "    while j < i+1:\n",
    "        print((i,j),\" \",end = \"\")\n",
    "        j = j + 1\n",
    "    print()\n",
    "    i = i + 1\n",
    "    j = 0\n",
    "        "
   ]
  },
  {
   "cell_type": "markdown",
   "metadata": {},
   "source": [
    "Same thing, but we have to check a lot more boolean values and juggle more constants.  Admittedly, we had to check some booleans with the for loop, but those could have been averted:"
   ]
  },
  {
   "cell_type": "code",
   "execution_count": null,
   "metadata": {
    "collapsed": true
   },
   "outputs": [],
   "source": [
    "for i in range(10):\n",
    "    for j in range(i+1):\n",
    "        print((i,j),end = \" \")\n",
    "    print()"
   ]
  },
  {
   "cell_type": "markdown",
   "metadata": {},
   "source": [
    "This last implementation is the \"best\" of the three because it cuts out the unnecessary boolean check and runs the fastest (while not making the code needlessly complex)."
   ]
  },
  {
   "cell_type": "markdown",
   "metadata": {},
   "source": [
    "I should go back just a step in case that was too fast.  Note the syntax for a while-loop:"
   ]
  },
  {
   "cell_type": "raw",
   "metadata": {},
   "source": [
    "while (condition):\n",
    "    <do code>\n",
    "    <do code>\n",
    "    <go to top and recheck condition>"
   ]
  },
  {
   "cell_type": "markdown",
   "metadata": {},
   "source": [
    "There are a few great uses for this.  One, if you want to do something indefinitely.  The code below isn't a great example of doing something endlessly.  Sometimes you need to do something indefinitely.  The code below will work indefinitely ... until it crashes your python kernel.  Run it, and you'll need to abort and reset.  You'll also probably need to delete the cell; after printing a few hundred thousand lines, The Jupyter notebook will have trouble rendering, even on restart of the kernel.\n",
    "\n",
    "But, you can run the cell if you reall want to.  Uncomment the commented lines and it'll stop after a reasonable number of iterations."
   ]
  },
  {
   "cell_type": "code",
   "execution_count": null,
   "metadata": {
    "collapsed": true
   },
   "outputs": [],
   "source": [
    "exhausted = 0\n",
    "\n",
    "while True:\n",
    "    print(\"This is the song that doesn't end\")\n",
    "    print(\"yes it goes on and on my friend\")\n",
    "    print(\"some people started singing it not knowing it what it was\")\n",
    "    print(\"but they'll continue singing it forever just because ...\\n\")\n",
    "    exhausted += 1\n",
    "    \n",
    "    # if exhausted > 10:\n",
    "    #    break"
   ]
  },
  {
   "cell_type": "markdown",
   "metadata": {},
   "source": [
    "A more common use of of while loops.  Maybe you know you'll reach a terminating condition, but you don't know how long it will take to reach it.  A good example of this is the collatz sequence that manifested in the previous lesson.  You wrote a function to do one step of the sequence.  Now, write a while-loop that checks if the output of the next step of our collatz process and stops if we've reached the number 1.  At each step along the way, if we haven't reached 1, the stopping condition, we should print the number.\n",
    "\n",
    "As an example, if we start with 5, we should see the printout of 5,16,8,4,2,1"
   ]
  },
  {
   "cell_type": "code",
   "execution_count": null,
   "metadata": {
    "collapsed": true
   },
   "outputs": [],
   "source": [
    "start = 5\n",
    "\n",
    "while\n",
    "\n",
    "\n"
   ]
  },
  {
   "cell_type": "markdown",
   "metadata": {},
   "source": [
    "Slightly more complicated, instead of printing the numbers at each step along the way, store them to a list and print out the final list."
   ]
  },
  {
   "cell_type": "code",
   "execution_count": null,
   "metadata": {
    "collapsed": true
   },
   "outputs": [],
   "source": [
    "start = 13\n",
    "\n",
    "while"
   ]
  },
  {
   "cell_type": "markdown",
   "metadata": {},
   "source": [
    "Even better, write a new function which takes a number as its input, and returns a list with all the numbers in the sequence until it gets to 1."
   ]
  },
  {
   "cell_type": "code",
   "execution_count": null,
   "metadata": {
    "collapsed": true
   },
   "outputs": [],
   "source": [
    "def collatz_sequence(start):\n",
    "    \n",
    "    "
   ]
  },
  {
   "cell_type": "markdown",
   "metadata": {},
   "source": [
    "## Last note on loops:\n",
    "\n",
    "We already noted the break ability of loops above; break is somewhat common.  Something rare that may not ever come up, you can have an \"else:\" condition on a loop.  As long as the loop ends normally without a break, the else condition will run."
   ]
  },
  {
   "cell_type": "code",
   "execution_count": 25,
   "metadata": {},
   "outputs": [
    {
     "name": "stdout",
     "output_type": "stream",
     "text": [
      "10\n",
      "9\n",
      "8\n",
      "7\n",
      "6\n",
      "5\n",
      "4\n",
      "3\n",
      "We're experiencing technical difficulties\n"
     ]
    }
   ],
   "source": [
    "# try this for varying values of broken\n",
    "broken = 3\n",
    "\n",
    "for i in range(10,0,-1):\n",
    "    print(i)\n",
    "    if i == broken:\n",
    "        print(\"We're experiencing technical difficulties\")\n",
    "        break\n",
    "else:\n",
    "    print(\"happy new year\")"
   ]
  },
  {
   "cell_type": "markdown",
   "metadata": {},
   "source": [
    "## [Variables](#TOC) <a name=\"variables\"></a>\n",
    "\n",
    "Things to know about variables.  You're given some leeway in what you can use as a variable name, but there are guidelines (some strictly enforced, others just very well-intentioned suggestions).  They **should** start with a letter.  They can be made up of letters and numbers and underscores.  They can't start with a number.  They shouldn't start with a capital letters (unless they're classes).  Underscores are viable start characters for variable names, but convention is that starting underscores are saved for a special type of variable we'll see later.  If you want to camel case within names, that's up to you.\n",
    "\n",
    "My strongest suggestion about variable names is that they should be concise, but also be descriptive.  One of the advantages of Python is that it is easy to read, and easy for humans to interpret, but this notion falls apart if you don't do a good job picking your variable names.\n"
   ]
  },
  {
   "cell_type": "markdown",
   "metadata": {
    "collapsed": true
   },
   "source": [
    "## Mini exercise:\n",
    "\n",
    "Can you think of a reason why list, str, int, and float would be bad variable names?"
   ]
  },
  {
   "cell_type": "markdown",
   "metadata": {},
   "source": [
    "## [Dictionaries](#TOC) <a name=\"dictionaries\"></a>\n",
    "What is a dictionary?  In computer science, we talk about key/value pairs\n",
    "\n",
    "A dictionary is something that associates pairs of things, keys and values.  You might, for instance, have an Internet slang dictionary:"
   ]
  },
  {
   "cell_type": "code",
   "execution_count": 27,
   "metadata": {
    "collapsed": true
   },
   "outputs": [],
   "source": [
    "# one way to define a dictionary\n",
    "internet_dictionary = dict()\n",
    "\n",
    "# one way to define an empty dictionary\n",
    "internet_dictionary = {}"
   ]
  },
  {
   "cell_type": "markdown",
   "metadata": {},
   "source": [
    "If we want to add to our dictionary, the template is:\n",
    "    \n",
    "dictionary_name[key] = value"
   ]
  },
  {
   "cell_type": "code",
   "execution_count": 28,
   "metadata": {
    "collapsed": true
   },
   "outputs": [],
   "source": [
    "internet_dictionary[\"yolo\"] = \"you only live once\"\n",
    "internet_dictionary[\"tl;dr\"] = \"too long; didn't read\"\n",
    "internet_dictionary[\"sfw\"] = \"safe for work\""
   ]
  },
  {
   "cell_type": "code",
   "execution_count": 29,
   "metadata": {},
   "outputs": [
    {
     "data": {
      "text/plain": [
       "{'sfw': 'safe for work',\n",
       " 'tl;dr': \"too long; didn't read\",\n",
       " 'yolo': 'you only live once'}"
      ]
     },
     "execution_count": 29,
     "metadata": {},
     "output_type": "execute_result"
    }
   ],
   "source": [
    "internet_dictionary"
   ]
  },
  {
   "cell_type": "markdown",
   "metadata": {},
   "source": [
    "In the example above, the key is a string, and the value is also a string.\n",
    "\n",
    "If I want to change a value:"
   ]
  },
  {
   "cell_type": "code",
   "execution_count": 30,
   "metadata": {},
   "outputs": [
    {
     "data": {
      "text/plain": [
       "{'sfw': 'safe for work',\n",
       " 'tl;dr': \"too long; didn't read\",\n",
       " 'yolo': 'You. Only. Live. Once.'}"
      ]
     },
     "execution_count": 30,
     "metadata": {},
     "output_type": "execute_result"
    }
   ],
   "source": [
    "internet_dictionary[\"yolo\"] = \"You. Only. Live. Once.\"\n",
    "internet_dictionary"
   ]
  },
  {
   "cell_type": "markdown",
   "metadata": {},
   "source": [
    "You can think of the internet_dictionary[key] as a variable, and in the above case, we're overwriting the string which was previously assigned to the key/variable."
   ]
  },
  {
   "cell_type": "markdown",
   "metadata": {},
   "source": [
    "Another example of a dictionary:"
   ]
  },
  {
   "cell_type": "code",
   "execution_count": 31,
   "metadata": {},
   "outputs": [
    {
     "data": {
      "text/plain": [
       "{0: [0],\n",
       " 1: [1],\n",
       " 2: [4],\n",
       " 3: [9],\n",
       " 4: [16],\n",
       " 5: [25],\n",
       " 6: [36],\n",
       " 7: [49],\n",
       " 8: [64],\n",
       " 9: [81]}"
      ]
     },
     "execution_count": 31,
     "metadata": {},
     "output_type": "execute_result"
    }
   ],
   "source": [
    "number_dict = {}\n",
    "\n",
    "for i in range(10):\n",
    "    number_dict[i] = [i**2]\n",
    "    \n",
    "number_dict"
   ]
  },
  {
   "cell_type": "markdown",
   "metadata": {},
   "source": [
    "Notice that in this case, the key is an integer, and the value is a list.  If we want to add to the list, how do we do that?  Well, with lists, we can add to them with the append command.  What does the following command do:"
   ]
  },
  {
   "cell_type": "code",
   "execution_count": 32,
   "metadata": {
    "collapsed": true
   },
   "outputs": [],
   "source": [
    "for i in range(10):\n",
    "    number_dict[i].append(i**3)"
   ]
  },
  {
   "cell_type": "code",
   "execution_count": 33,
   "metadata": {},
   "outputs": [
    {
     "data": {
      "text/plain": [
       "{0: [0, 0],\n",
       " 1: [1, 1],\n",
       " 2: [4, 8],\n",
       " 3: [9, 27],\n",
       " 4: [16, 64],\n",
       " 5: [25, 125],\n",
       " 6: [36, 216],\n",
       " 7: [49, 343],\n",
       " 8: [64, 512],\n",
       " 9: [81, 729]}"
      ]
     },
     "execution_count": 33,
     "metadata": {},
     "output_type": "execute_result"
    }
   ],
   "source": [
    "number_dict"
   ]
  },
  {
   "cell_type": "markdown",
   "metadata": {},
   "source": [
    "It appears like we added the relevant cube to the list of relevant squares.  At this point, if I asked you to add the appropriate 4th powers to the list of squares and cubes for each key, I presume you could do this very easily, but could you do it without the range() function?  <a href = http://media.indiatimes.in/media/content/2013/Dec/6_1387196982_540x540.jpg>What if I told you</a> that dictionaries were iterable objects?"
   ]
  },
  {
   "cell_type": "code",
   "execution_count": null,
   "metadata": {
    "collapsed": true
   },
   "outputs": [],
   "source": [
    "for key in number_dict:\n",
    "    number_dict[key].append(key**4)"
   ]
  },
  {
   "cell_type": "code",
   "execution_count": null,
   "metadata": {
    "collapsed": true
   },
   "outputs": [],
   "source": [
    "number_dict"
   ]
  },
  {
   "cell_type": "markdown",
   "metadata": {},
   "source": [
    "So, dictionaries let you keep track of information that is related to a particular key.  Maybe it's one piece of information, or maybe it's lots of information.  Note, we can change this all at a moments notice.  Using the sum( ) function, which accepts lists as inputs, change all the values in our number dictionary to be the integer sum of the lists."
   ]
  },
  {
   "cell_type": "code",
   "execution_count": null,
   "metadata": {
    "collapsed": true
   },
   "outputs": [],
   "source": [
    "for key in number_dict:\n",
    "    number_dict[key] = sum(number_dict[key])"
   ]
  },
  {
   "cell_type": "code",
   "execution_count": null,
   "metadata": {
    "collapsed": true
   },
   "outputs": [],
   "source": [
    "number_dict"
   ]
  },
  {
   "cell_type": "markdown",
   "metadata": {},
   "source": [
    "We've hit on some aspects of dictionaries, but I've not *really* expressed the up and downsides of dictionaries.  Up side is they're fast.  Downside is they don't necessarily keep things in order.  Downside first.  When you put things into a dictionary, it doesn't necessarily keep track of the order you put them in, unlike with a list where the things you put in are kept in the order they are put in.  If you need the keys in your dictionary to be in a particular order, you need to use something called an Ordered Dictionary.  In the newest version of Python, regular dictionaries will try to maintain the original order, but it's not something you can rely on.  Anyway, a potential downside of dictionaries.  But!  The upside!"
   ]
  },
  {
   "cell_type": "code",
   "execution_count": 34,
   "metadata": {
    "collapsed": true
   },
   "outputs": [],
   "source": [
    "N = 100000\n",
    "\n",
    "big_dict = {}\n",
    "\n",
    "for i in range(0,N):\n",
    "    big_dict[i] = i**2\n",
    "    \n",
    "big_list = list(range(N))"
   ]
  },
  {
   "cell_type": "markdown",
   "metadata": {},
   "source": [
    "See that the dictionary and list both have N elements in them.  In that sense, they're comparable in size.  What if you wanted to know if a particular number was an element of the list, or a key in the dictionary?"
   ]
  },
  {
   "cell_type": "code",
   "execution_count": 35,
   "metadata": {},
   "outputs": [
    {
     "data": {
      "text/plain": [
       "True"
      ]
     },
     "execution_count": 35,
     "metadata": {},
     "output_type": "execute_result"
    }
   ],
   "source": [
    "# This checks if a number is a key in big_dict,\n",
    "# not if a number is a value in big_dict.  Make sure that makes sense\n",
    "1 in big_dict"
   ]
  },
  {
   "cell_type": "code",
   "execution_count": 36,
   "metadata": {},
   "outputs": [
    {
     "data": {
      "text/plain": [
       "True"
      ]
     },
     "execution_count": 36,
     "metadata": {},
     "output_type": "execute_result"
    }
   ],
   "source": [
    "1 in big_list"
   ]
  },
  {
   "cell_type": "markdown",
   "metadata": {},
   "source": [
    "In both cases, Python seems to find the number instantaneously.  Let's try again with a larger number."
   ]
  },
  {
   "cell_type": "code",
   "execution_count": 37,
   "metadata": {},
   "outputs": [
    {
     "name": "stdout",
     "output_type": "stream",
     "text": [
      "Wall time: 0 ns\n"
     ]
    },
    {
     "data": {
      "text/plain": [
       "True"
      ]
     },
     "execution_count": 37,
     "metadata": {},
     "output_type": "execute_result"
    }
   ],
   "source": [
    "%%time\n",
    "\n",
    "(N-1) in big_dict"
   ]
  },
  {
   "cell_type": "code",
   "execution_count": 38,
   "metadata": {},
   "outputs": [
    {
     "name": "stdout",
     "output_type": "stream",
     "text": [
      "Wall time: 1e+03 µs\n"
     ]
    },
    {
     "data": {
      "text/plain": [
       "True"
      ]
     },
     "execution_count": 38,
     "metadata": {},
     "output_type": "execute_result"
    }
   ],
   "source": [
    "%%time\n",
    "(N-1) in big_list"
   ]
  },
  {
   "cell_type": "markdown",
   "metadata": {},
   "source": [
    "Still seemingly instantaneous, but that was for one check.  What if we had to do this 10k times?"
   ]
  },
  {
   "cell_type": "code",
   "execution_count": 39,
   "metadata": {},
   "outputs": [
    {
     "name": "stdout",
     "output_type": "stream",
     "text": [
      "Wall time: 1 ms\n"
     ]
    }
   ],
   "source": [
    "%%time\n",
    "\n",
    "for i in range(10000):\n",
    "    N-1 in big_dict"
   ]
  },
  {
   "cell_type": "code",
   "execution_count": 40,
   "metadata": {},
   "outputs": [
    {
     "name": "stdout",
     "output_type": "stream",
     "text": [
      "Wall time: 7.56 s\n"
     ]
    }
   ],
   "source": [
    "%%time\n",
    "\n",
    "for i in range(10000):\n",
    "    N-1 in big_list"
   ]
  },
  {
   "cell_type": "markdown",
   "metadata": {},
   "source": [
    "Point being, if you want to find something in a list, you have to check every item in the list to see if it is what you're looking for until you either find it or get to the end of the list.  With dictionaries, they have an incredibly fast look-up time, so if you will need to search something over and over again, better use a dictionary instead of a list.  Or, use a set?"
   ]
  },
  {
   "cell_type": "markdown",
   "metadata": {},
   "source": [
    "## [Exercises](#TOC) <a name=\"exercises\"></a>"
   ]
  },
  {
   "cell_type": "markdown",
   "metadata": {},
   "source": [
    "Primes\n",
    "\n",
    "Write a function which iterates through the numbers from 4 to N, and returns a list of all the composites in that range.  I've left some code scaffolding."
   ]
  },
  {
   "cell_type": "code",
   "execution_count": null,
   "metadata": {
    "collapsed": true
   },
   "outputs": [],
   "source": [
    "\n",
    "def composites( ):\n",
    "    \"\"\"This function takes one input and returns\n",
    "    a list of composite numbers from 4 to N\"\"\"\n",
    "\n",
    "    # first create the empty list we'll be putting the composites in\n",
    "    \n",
    "    \n",
    "    # now start a for-loop which will iterate from 4 to N\n",
    "    \n",
    "    \n",
    "        # nested within this for-loop, we need another for loop \n",
    "        # to divide by each number from 1 to N\n",
    "        \n",
    "        \n",
    "            # if a number other than 1 and our current number\n",
    "            # evenly divides the number we're checking for composite-ness,\n",
    "            # we can append the number to our list of composites\n",
    "            # and break out of the loop.\n",
    "            \n",
    "            \n",
    "    # when the inner and outer for loops are done, don't forget\n",
    "    # to return the list of composites\n",
    "    "
   ]
  },
  {
   "cell_type": "code",
   "execution_count": null,
   "metadata": {
    "collapsed": true
   },
   "outputs": [],
   "source": [
    "# if your function works, this cell should give you a list of primes less than 100\n",
    "not_prime = composites(100)\n",
    "numbers = set(range(2,100))\n",
    "print(numbers.difference(set(not_prime)))"
   ]
  },
  {
   "cell_type": "code",
   "execution_count": null,
   "metadata": {
    "collapsed": true
   },
   "outputs": [],
   "source": []
  }
 ],
 "metadata": {
  "kernelspec": {
   "display_name": "Python 3",
   "language": "python",
   "name": "python3"
  },
  "language_info": {
   "codemirror_mode": {
    "name": "ipython",
    "version": 3
   },
   "file_extension": ".py",
   "mimetype": "text/x-python",
   "name": "python",
   "nbconvert_exporter": "python",
   "pygments_lexer": "ipython3",
   "version": "3.6.3"
  }
 },
 "nbformat": 4,
 "nbformat_minor": 2
}
