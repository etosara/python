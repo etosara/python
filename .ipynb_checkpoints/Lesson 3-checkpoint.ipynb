{
 "cells": [
  {
   "cell_type": "markdown",
   "metadata": {},
   "source": [
    "# Python 3 crash course"
   ]
  },
  {
   "cell_type": "markdown",
   "metadata": {},
   "source": [
    "Loading files/ Numpy/ Pandas/ comprehensions"
   ]
  },
  {
   "cell_type": "markdown",
   "metadata": {},
   "source": [
    "This should be the last thing we need in order to have you ready for AM 207."
   ]
  },
  {
   "cell_type": "code",
   "execution_count": 1,
   "metadata": {
    "collapsed": true
   },
   "outputs": [],
   "source": [
    "import bs4"
   ]
  },
  {
   "cell_type": "code",
   "execution_count": 2,
   "metadata": {
    "collapsed": true
   },
   "outputs": [],
   "source": [
    "text = \"\"\"<p>The final exam for undergraduates is 2 PM - 5 PM on Thursday, May 10 in Emerson 210.</p>\n",
    "<p>Distance Extension students must find an official proctor and take the exam during a 24-hour window that opens at 2 PM Eastern time on Thursday, May 10.</p>\n",
    "<p>Here is a set of <a class=\"instructure_file_link instructure_scribd_file\" title=\"ExecSummary-23c-9-12.pdf\" href=\"/courses/38716/files/5860650/download?verifier=mkmh9v5VeZzV5NDc6fz3CRvGMoRsGYYwr8uRo9Pc&amp;wrap=1\">Executive Summaries</a> that you should print and bring to the exam. Copies are being provided to the proctors for distance exams.</p>\n",
    "<p>Here is a <a class=\"instructure_file_link instructure_scribd_file\" title=\"FinalBlank-23c-2018.pdf\" href=\"/courses/38716/files/5872878/download?verifier=tqJBKt3AbWhmmI9Md4wQSilXvnS6USELXkiiqdQD&amp;wrap=1\">blank final exam</a> that explains the format.</p>\n",
    "<hr />\n",
    "<p><span style=\"color: #0000ff;\"></span><span style=\"color: #0000ff;\"></span><span style=\"font-size: 14pt; color: #0000ff;\"><span style=\"color: #000000;\"><span style=\"color: #0000ff;\"><strong>Great news</strong>:</span>&nbsp; The excellent mathematical statistics textbook by Chihara and Hesterberg is available in electronic form to anyone with a Harvard ID. Use</span> <a style=\"color: #0000ff;\" href=\"http://nrs.harvard.edu/urn-3:hul.ebookbatch.SAFAR_batch:9781118029855\">this link</a></span></p>\n",
    "<hr />\n",
    "<p><span style=\"font-size: 18pt;\"><strong><span style=\"color: #000000;\">Sections</span>:</strong></span></p>\n",
    "<p><strong>Thursday</strong></p>\n",
    "<p>4<span>pm</span>-5:30<span>pm</span> - Paul - SC 105 - <span style=\"color: #0000ff;\"><a style=\"color: #0000ff;\" href=\"https://docs.google.com/spreadsheets/d/1IievGzb5tG4pCnt2zYt-SKQW7wu2xhajNeX7L_FLB5I/edit?usp=sharing\">seminar sign-up</a></span></p>\n",
    "<p>4<span>pm</span>-5:30<span>pm</span> - Rachel - SC 104<span>&nbsp;- <span style=\"color: #0000ff;\"><a style=\"color: #0000ff;\" href=\"https://docs.google.com/spreadsheets/d/1ppajzd5lSgvxvJQ9N_DGOdarvoR7lcHenogQlFmlbRk/edit?usp=sharing\">seminar sign-up</a></span></span></p>\n",
    "<p><strong>Friday</strong></p>\n",
    "<p>12<span>pm</span>-1:30<span>pm</span> -&nbsp;Ziliang/Joe - SC 216<span>&nbsp;- <span style=\"color: #0000ff;\"><a style=\"color: #0000ff;\" href=\"https://docs.google.com/spreadsheets/d/14Uot2WBPubOcD3SYCAjMV3pwwBJd_pgpmvPsYnbJNcs/edit?usp=sharing\">seminar sign-up</a></span></span></p>\n",
    "<p>1:30<span>pm</span>-3<span>pm</span> -&nbsp;Ziliang/Joe - SC 216<span>&nbsp;- <span style=\"color: #0000ff;\"><a style=\"color: #0000ff;\" href=\"https://docs.google.com/spreadsheets/d/1omVmeZ0sK0mv_e_9FaCijYUREsOfjFyOwutvBzCJL3k/edit?usp=sharing\">seminar sign-up</a></span></span></p>\n",
    "<p><strong>Sunday</strong></p>\n",
    "<p>3pm-5pm - Joe and Hatch - SC 110<span>&nbsp;and<span style=\"color: #0000ff;\">&nbsp;<a style=\"color: #0000ff;\" href=\"https://zoom.us/j/198182729\">Zoom room 1</a>&nbsp;-&nbsp;</span></span><span style=\"color: #0000ff;\"><a style=\"color: #0000ff;\" href=\"https://docs.google.com/spreadsheets/d/1JfAwEU64BxI3teSHz36K4NJGStzEd8y4eyGT1wv5zHw/edit?usp=sharing\">seminar sign-up</a></span></p>\n",
    "<p><strong>Monday</strong></p>\n",
    "<p>7:30pm-9:30pm - Ruby - <span style=\"color: #0000ff;\"><a style=\"color: #0000ff;\" href=\"https://zoom.us/j/861272629\">Zoom room 2</a>&nbsp;-&nbsp;<a style=\"color: #0000ff;\" href=\"https://docs.google.com/spreadsheets/d/1jZF70v-heGg0SAr9f1Zgfhxotu3sv3bxIMicVcsLV3A/edit?usp=sharing\">seminar sign-up</a></span></p>\n",
    "<hr />\n",
    "<p><span style=\"font-size: 18pt; color: #000000;\"><strong>Office Hours:</strong></span></p>\n",
    "<p><strong>Sunday</strong></p>\n",
    "<p>Diana<strong> 3:30pm-5:30pm&nbsp;</strong>Science Center 411</p>\n",
    "<p>David<strong> 8pm-10pm&nbsp;</strong>Quincy Dining Hall</p>\n",
    "<p><strong>Monday</strong></p>\n",
    "<p>Ziliang <strong>4pm - 6pm </strong><em>(valid from March 28)</em> SC 113</p>\n",
    "<p>Joe<strong> 7:40pm-9:40pm&nbsp;</strong>SC 112&nbsp;and&nbsp;<span style=\"color: #0000ff;\"><a style=\"color: #0000ff;\" href=\"https://zoom.us/j/198182729\">Zoom room 1</a></span></p>\n",
    "<p><strong>Tuesday</strong></p>\n",
    "<p>Hatch<strong> 5:30pm - 7:30pm&nbsp;</strong>SC 111</p>\n",
    "<p><strong>Wednesday</strong></p>\n",
    "<p>Mihika<strong> 4pm-6pm&nbsp;</strong><span style=\"color: #0000ff;\"><a style=\"color: #0000ff;\" href=\"https://zoom.us/j/198182729\">Zoom room 1</a></span></p>\n",
    "<p><span style=\"color: #0000ff;\"><span style=\"color: #000000;\">Ruby<strong>&nbsp;6:30pm-8:30pm&nbsp;</strong></span><a style=\"color: #0000ff;\" href=\"https://zoom.us/j/861272629\">Zoom room 2</a></span></p>\n",
    "<hr />\n",
    "<div><span style=\"font-size: 18pt; color: #000000;\"><strong>Zoom Rooms:</strong></span></div>\n",
    "<p><span style=\"color: #0000ff;\"><a style=\"color: #0000ff;\" href=\"https://zoom.us/j/198182729\">Zoom room 1</a></span></p>\n",
    "<p><span style=\"color: #0000ff;\"><a style=\"color: #0000ff;\" href=\"https://zoom.us/j/861272629\">Zoom room 2</a></span></p>\n",
    "<hr />\n",
    "<p><span style=\"font-size: 18pt;\"></span><span style=\"font-size: 18pt;\"><strong><span style=\"color: #000000;\">R Scripts</span>:</strong></span></p>\n",
    "<p>Here are the R scripts for the first five weeks, The \"M\" scripts focus on mathematics, while the \"D\" scripts apply R to real-world datasets. The \"Ruby\" scripts appeal to those interested in CS and software engineering. Move them into your Scripts subfolder and try them out!</p>\n",
    "<p><span style=\"color: #0000ff;\"><a class=\"instructure_file_link\" style=\"color: #0000ff;\" title=\"1M-TruthTables.R\" href=\"/courses/38716/files/5290900/download?verifier=3w9wzOm6w0ltjSmkW3iuXAnuoYdfSOkPpYUScK6V&amp;wrap=1\">1M-TruthTables.R</a>&nbsp;<span style=\"color: #000000;\">I</span>&nbsp;<a class=\"instructure_file_link\" style=\"color: #0000ff;\" title=\"1D-LogicalData.R\" href=\"/courses/38716/files/5290899/download?verifier=1RckSkDJJQtkefx5H7WkF1wgVHfALgGzdSbK723A&amp;wrap=1\">1D-LogicalData.R</a> <span style=\"color: #000000;\">|</span> <a class=\"instructure_file_link\" style=\"color: #0000ff;\" title=\"1Ruby-EnglishToQuantifiers.R\" href=\"/courses/38716/files/5290901/download?verifier=7UWrLBG1ryjBaTwmU2mEMi7Gesb0UK4go3ktySuN&amp;wrap=1\">1Ruby-EnglishToQuantifiers.R</a></span></p>\n",
    "<p><span style=\"color: #0000ff;\"><a class=\"instructure_file_link\" style=\"color: #0000ff;\" title=\"2M-CoinsDiceCards.R\" href=\"/courses/38716/files/5300788/download?verifier=m2lAyP4ygDqL8edjdwVMsNta1YD9pj10ktmPXx5i&amp;wrap=1\">2M-CoinsDiceCards.R</a> <span style=\"color: #000000;\">|</span> <a class=\"instructure_file_link\" style=\"color: #0000ff;\" title=\"2D-Samples.R\" href=\"/courses/38716/files/5356908/download?verifier=Rwwm6BAdItztvReSS9gxFJYPr3yfU5ZL0I0bBowl&amp;wrap=1\">2D-Samples.R</a> <span style=\"color: #000000;\">|</span> <a class=\"instructure_file_link\" style=\"color: #0000ff;\" title=\"2Ruby-PowerSets.R\" href=\"/courses/38716/files/5337754/download?verifier=pu8gQPlYgLKpDPmogIhxgNkTLl6cycnLUf3cuffG&amp;wrap=1\">2Ruby-PowerSets.R</a></span></p>\n",
    "<p><span style=\"color: #0000ff;\"><a class=\"instructure_file_link\" style=\"color: #0000ff;\" title=\"3M-DiscreteDistributions.R\" href=\"/courses/38716/files/5367654/download?verifier=KuE3TsSclxmiUBHCEFLxguhtLQOSiQhPJYPciFAl&amp;wrap=1\">3M-DiscreteDistributions.R</a> <span style=\"color: #000000;\">I</span> <a class=\"instructure_file_link\" style=\"color: #0000ff;\" title=\"3D-DiscreteModels.R\" href=\"/courses/38716/files/5367653/download?verifier=09xkWHocMGnNHoHuKfzMRICBLPQznqM4EXI55Zbh&amp;wrap=1\">3D-DiscreteModels.R</a> <span style=\"color: #000000;\">|</span> <a class=\"instructure_file_link\" style=\"color: #0000ff;\" title=\"3Ruby-Partitions.R\" href=\"/courses/38716/files/5382311/download?verifier=j2opqt5v9FASMlAbeBIpyrS4yBpg6Ct4TfRt1KoS&amp;wrap=1\">3Ruby-Partitions.R</a></span></p>\n",
    "<p><span style=\"color: #0000ff;\"><a class=\"instructure_file_link\" style=\"color: #0000ff;\" title=\"4M-Integration.R\" href=\"/courses/38716/files/5463719/download?verifier=m0Rsnr6WWekQVmoV34fVa6RJoS1dZTzsi55tK2BR&amp;wrap=1\">4M-Integration.R</a> <span style=\"color: #000000;\">I</span> <a class=\"instructure_file_link\" style=\"color: #0000ff;\" title=\"4D-DensityFunctions.R\" href=\"/courses/38716/files/5463718/download?verifier=O7l8s8ku560W8I8De8igTOyHgNSzqI1o5wTiXDcZ&amp;wrap=1\">4D-DensityFunctions.R</a> <span style=\"color: #000000;\">I</span> <a class=\"instructure_file_link\" style=\"color: #0000ff;\" title=\"4Ruby-LinearTransformations.R\" href=\"/courses/38716/files/5424241/download?verifier=b3Jmfz6JtVkRXBUQsMpHFuPknPKOuziQDNDnxX9B&amp;wrap=1\">4Ruby-LinearTransformations.R</a></span></p>\n",
    "<p><span style=\"color: #0000ff;\"><a class=\"instructure_file_link\" style=\"color: #0000ff;\" title=\"5M-ContinuousProbability.R\" href=\"/courses/38716/files/5463717/download?verifier=6vG9Fot6eH7on3vvOoHGGT8hVbCKZPfz8WwrI8bI&amp;wrap=1\">5M-ContinuousProbability.R</a> <span style=\"color: #000000;\">I</span> <a class=\"instructure_file_link\" style=\"color: #0000ff;\" title=\"5D-ContinuousModels.R\" href=\"/courses/38716/files/5463716/download?verifier=4VNILUwAwvfsk8xQx8Af3aNv4zJDRNNaBz2CwCvN&amp;wrap=1\">5D-ContinuousModels.R</a> <span style=\"color: #000000;\">I</span> <a class=\"instructure_file_link instructure_scribd_file\" style=\"background-color: transparent; color: #0000ff; font-family: sans-serif; font-size: 16px; font-style: normal; font-weight: 400; text-align: left; text-decoration: none; text-indent: 0px; white-space: normal;\" title=\"5Ruby-IntegrateNumericalMethods.R\" href=\"/courses/38716/files/5463713/download?verifier=XJOE0McqDAq6WCV0vIG2uXcSJpTOUztZIhPvkppv&amp;wrap=1\">5Ruby-IntegrateNumericalMethods.R</a></span></p>\n",
    "<p>The scripts use a very limited subset of the R language and avoid fancy software engineering. I hope that they will be accessible even to students who have never programmed in any language. If you learned R in Math 23a, you will find the style familiar but the content almost totally new.</p>\n",
    "<p>Ruby Henry, who teaches the Monday evening section, is creating a set of scripts that use a programming style that should appeal to prospective CS concentrators and to software professionals. Students who want to work with these are encouraged to join the Monday evening section.</p>\n",
    "<p>Here is the first installment of the extra problems required for students who are enrolled in Math E-23c for <strong>graduate credit</strong>. Undergraduates can <strong>substitute these for homework problems</strong>.&nbsp;<span style=\"color: #0000ff;\"> <a class=\"instructure_file_link instructure_scribd_file\" style=\"color: #0000ff;\" title=\"DataWrangling-2018.pdf\" href=\"/courses/38716/files/5274734/download?verifier=aoVXwT56BdXzT8UDXwAOAg3K02967lxbIo4mAqXZ&amp;wrap=1\">DataWrangling-2018.pdf</a></span></p>\n",
    "<p>Here is an updated installment of the extra problems for students with software experience. You can <strong>substitute one of these each week for a homework problem</strong>. &nbsp;<span style=\"color: #0000ff;\"><a class=\"instructure_file_link instructure_scribd_file\" style=\"color: #0000ff;\" title=\"Math 23c -Ruby- Optional Problems.pdf\" href=\"/courses/38716/files/5478177/download?verifier=fyVZ2vd6xEpoUy9xEA4VHWWXXfp11DgvHWRnuK1v\">Math 23c -Ruby- Optional Problems.pdf</a>&nbsp;</span></p>\n",
    "<hr />\"\"\""
   ]
  },
  {
   "cell_type": "code",
   "execution_count": 6,
   "metadata": {},
   "outputs": [],
   "source": [
    "soup = bs4.BeautifulSoup(text,\"lxml\")"
   ]
  },
  {
   "cell_type": "code",
   "execution_count": 10,
   "metadata": {
    "scrolled": false
   },
   "outputs": [
    {
     "name": "stdout",
     "output_type": "stream",
     "text": [
      "<bound method Tag.prettify of <html><body><p>The final exam for undergraduates is 2 PM - 5 PM on Thursday, May 10 in Emerson 210.</p>\n",
      "<p>Distance Extension students must find an official proctor and take the exam during a 24-hour window that opens at 2 PM Eastern time on Thursday, May 10.</p>\n",
      "<p>Here is a set of <a class=\"instructure_file_link instructure_scribd_file\" href=\"/courses/38716/files/5860650/download?verifier=mkmh9v5VeZzV5NDc6fz3CRvGMoRsGYYwr8uRo9Pc&amp;wrap=1\" title=\"ExecSummary-23c-9-12.pdf\">Executive Summaries</a> that you should print and bring to the exam. Copies are being provided to the proctors for distance exams.</p>\n",
      "<p>Here is a <a class=\"instructure_file_link instructure_scribd_file\" href=\"/courses/38716/files/5872878/download?verifier=tqJBKt3AbWhmmI9Md4wQSilXvnS6USELXkiiqdQD&amp;wrap=1\" title=\"FinalBlank-23c-2018.pdf\">blank final exam</a> that explains the format.</p>\n",
      "<hr/>\n",
      "<p><span style=\"color: #0000ff;\"></span><span style=\"color: #0000ff;\"></span><span style=\"font-size: 14pt; color: #0000ff;\"><span style=\"color: #000000;\"><span style=\"color: #0000ff;\"><strong>Great news</strong>:</span>  The excellent mathematical statistics textbook by Chihara and Hesterberg is available in electronic form to anyone with a Harvard ID. Use</span> <a href=\"http://nrs.harvard.edu/urn-3:hul.ebookbatch.SAFAR_batch:9781118029855\" style=\"color: #0000ff;\">this link</a></span></p>\n",
      "<hr/>\n",
      "<p><span style=\"font-size: 18pt;\"><strong><span style=\"color: #000000;\">Sections</span>:</strong></span></p>\n",
      "<p><strong>Thursday</strong></p>\n",
      "<p>4<span>pm</span>-5:30<span>pm</span> - Paul - SC 105 - <span style=\"color: #0000ff;\"><a href=\"https://docs.google.com/spreadsheets/d/1IievGzb5tG4pCnt2zYt-SKQW7wu2xhajNeX7L_FLB5I/edit?usp=sharing\" style=\"color: #0000ff;\">seminar sign-up</a></span></p>\n",
      "<p>4<span>pm</span>-5:30<span>pm</span> - Rachel - SC 104<span> - <span style=\"color: #0000ff;\"><a href=\"https://docs.google.com/spreadsheets/d/1ppajzd5lSgvxvJQ9N_DGOdarvoR7lcHenogQlFmlbRk/edit?usp=sharing\" style=\"color: #0000ff;\">seminar sign-up</a></span></span></p>\n",
      "<p><strong>Friday</strong></p>\n",
      "<p>12<span>pm</span>-1:30<span>pm</span> - Ziliang/Joe - SC 216<span> - <span style=\"color: #0000ff;\"><a href=\"https://docs.google.com/spreadsheets/d/14Uot2WBPubOcD3SYCAjMV3pwwBJd_pgpmvPsYnbJNcs/edit?usp=sharing\" style=\"color: #0000ff;\">seminar sign-up</a></span></span></p>\n",
      "<p>1:30<span>pm</span>-3<span>pm</span> - Ziliang/Joe - SC 216<span> - <span style=\"color: #0000ff;\"><a href=\"https://docs.google.com/spreadsheets/d/1omVmeZ0sK0mv_e_9FaCijYUREsOfjFyOwutvBzCJL3k/edit?usp=sharing\" style=\"color: #0000ff;\">seminar sign-up</a></span></span></p>\n",
      "<p><strong>Sunday</strong></p>\n",
      "<p>3pm-5pm - Joe and Hatch - SC 110<span> and<span style=\"color: #0000ff;\"> <a href=\"https://zoom.us/j/198182729\" style=\"color: #0000ff;\">Zoom room 1</a> - </span></span><span style=\"color: #0000ff;\"><a href=\"https://docs.google.com/spreadsheets/d/1JfAwEU64BxI3teSHz36K4NJGStzEd8y4eyGT1wv5zHw/edit?usp=sharing\" style=\"color: #0000ff;\">seminar sign-up</a></span></p>\n",
      "<p><strong>Monday</strong></p>\n",
      "<p>7:30pm-9:30pm - Ruby - <span style=\"color: #0000ff;\"><a href=\"https://zoom.us/j/861272629\" style=\"color: #0000ff;\">Zoom room 2</a> - <a href=\"https://docs.google.com/spreadsheets/d/1jZF70v-heGg0SAr9f1Zgfhxotu3sv3bxIMicVcsLV3A/edit?usp=sharing\" style=\"color: #0000ff;\">seminar sign-up</a></span></p>\n",
      "<hr/>\n",
      "<p><span style=\"font-size: 18pt; color: #000000;\"><strong>Office Hours:</strong></span></p>\n",
      "<p><strong>Sunday</strong></p>\n",
      "<p>Diana<strong> 3:30pm-5:30pm </strong>Science Center 411</p>\n",
      "<p>David<strong> 8pm-10pm </strong>Quincy Dining Hall</p>\n",
      "<p><strong>Monday</strong></p>\n",
      "<p>Ziliang <strong>4pm - 6pm </strong><em>(valid from March 28)</em> SC 113</p>\n",
      "<p>Joe<strong> 7:40pm-9:40pm </strong>SC 112 and <span style=\"color: #0000ff;\"><a href=\"https://zoom.us/j/198182729\" style=\"color: #0000ff;\">Zoom room 1</a></span></p>\n",
      "<p><strong>Tuesday</strong></p>\n",
      "<p>Hatch<strong> 5:30pm - 7:30pm </strong>SC 111</p>\n",
      "<p><strong>Wednesday</strong></p>\n",
      "<p>Mihika<strong> 4pm-6pm </strong><span style=\"color: #0000ff;\"><a href=\"https://zoom.us/j/198182729\" style=\"color: #0000ff;\">Zoom room 1</a></span></p>\n",
      "<p><span style=\"color: #0000ff;\"><span style=\"color: #000000;\">Ruby<strong> 6:30pm-8:30pm </strong></span><a href=\"https://zoom.us/j/861272629\" style=\"color: #0000ff;\">Zoom room 2</a></span></p>\n",
      "<hr/>\n",
      "<div><span style=\"font-size: 18pt; color: #000000;\"><strong>Zoom Rooms:</strong></span></div>\n",
      "<p><span style=\"color: #0000ff;\"><a href=\"https://zoom.us/j/198182729\" style=\"color: #0000ff;\">Zoom room 1</a></span></p>\n",
      "<p><span style=\"color: #0000ff;\"><a href=\"https://zoom.us/j/861272629\" style=\"color: #0000ff;\">Zoom room 2</a></span></p>\n",
      "<hr/>\n",
      "<p><span style=\"font-size: 18pt;\"></span><span style=\"font-size: 18pt;\"><strong><span style=\"color: #000000;\">R Scripts</span>:</strong></span></p>\n",
      "<p>Here are the R scripts for the first five weeks, The \"M\" scripts focus on mathematics, while the \"D\" scripts apply R to real-world datasets. The \"Ruby\" scripts appeal to those interested in CS and software engineering. Move them into your Scripts subfolder and try them out!</p>\n",
      "<p><span style=\"color: #0000ff;\"><a class=\"instructure_file_link\" href=\"/courses/38716/files/5290900/download?verifier=3w9wzOm6w0ltjSmkW3iuXAnuoYdfSOkPpYUScK6V&amp;wrap=1\" style=\"color: #0000ff;\" title=\"1M-TruthTables.R\">1M-TruthTables.R</a> <span style=\"color: #000000;\">I</span> <a class=\"instructure_file_link\" href=\"/courses/38716/files/5290899/download?verifier=1RckSkDJJQtkefx5H7WkF1wgVHfALgGzdSbK723A&amp;wrap=1\" style=\"color: #0000ff;\" title=\"1D-LogicalData.R\">1D-LogicalData.R</a> <span style=\"color: #000000;\">|</span> <a class=\"instructure_file_link\" href=\"/courses/38716/files/5290901/download?verifier=7UWrLBG1ryjBaTwmU2mEMi7Gesb0UK4go3ktySuN&amp;wrap=1\" style=\"color: #0000ff;\" title=\"1Ruby-EnglishToQuantifiers.R\">1Ruby-EnglishToQuantifiers.R</a></span></p>\n",
      "<p><span style=\"color: #0000ff;\"><a class=\"instructure_file_link\" href=\"/courses/38716/files/5300788/download?verifier=m2lAyP4ygDqL8edjdwVMsNta1YD9pj10ktmPXx5i&amp;wrap=1\" style=\"color: #0000ff;\" title=\"2M-CoinsDiceCards.R\">2M-CoinsDiceCards.R</a> <span style=\"color: #000000;\">|</span> <a class=\"instructure_file_link\" href=\"/courses/38716/files/5356908/download?verifier=Rwwm6BAdItztvReSS9gxFJYPr3yfU5ZL0I0bBowl&amp;wrap=1\" style=\"color: #0000ff;\" title=\"2D-Samples.R\">2D-Samples.R</a> <span style=\"color: #000000;\">|</span> <a class=\"instructure_file_link\" href=\"/courses/38716/files/5337754/download?verifier=pu8gQPlYgLKpDPmogIhxgNkTLl6cycnLUf3cuffG&amp;wrap=1\" style=\"color: #0000ff;\" title=\"2Ruby-PowerSets.R\">2Ruby-PowerSets.R</a></span></p>\n",
      "<p><span style=\"color: #0000ff;\"><a class=\"instructure_file_link\" href=\"/courses/38716/files/5367654/download?verifier=KuE3TsSclxmiUBHCEFLxguhtLQOSiQhPJYPciFAl&amp;wrap=1\" style=\"color: #0000ff;\" title=\"3M-DiscreteDistributions.R\">3M-DiscreteDistributions.R</a> <span style=\"color: #000000;\">I</span> <a class=\"instructure_file_link\" href=\"/courses/38716/files/5367653/download?verifier=09xkWHocMGnNHoHuKfzMRICBLPQznqM4EXI55Zbh&amp;wrap=1\" style=\"color: #0000ff;\" title=\"3D-DiscreteModels.R\">3D-DiscreteModels.R</a> <span style=\"color: #000000;\">|</span> <a class=\"instructure_file_link\" href=\"/courses/38716/files/5382311/download?verifier=j2opqt5v9FASMlAbeBIpyrS4yBpg6Ct4TfRt1KoS&amp;wrap=1\" style=\"color: #0000ff;\" title=\"3Ruby-Partitions.R\">3Ruby-Partitions.R</a></span></p>\n",
      "<p><span style=\"color: #0000ff;\"><a class=\"instructure_file_link\" href=\"/courses/38716/files/5463719/download?verifier=m0Rsnr6WWekQVmoV34fVa6RJoS1dZTzsi55tK2BR&amp;wrap=1\" style=\"color: #0000ff;\" title=\"4M-Integration.R\">4M-Integration.R</a> <span style=\"color: #000000;\">I</span> <a class=\"instructure_file_link\" href=\"/courses/38716/files/5463718/download?verifier=O7l8s8ku560W8I8De8igTOyHgNSzqI1o5wTiXDcZ&amp;wrap=1\" style=\"color: #0000ff;\" title=\"4D-DensityFunctions.R\">4D-DensityFunctions.R</a> <span style=\"color: #000000;\">I</span> <a class=\"instructure_file_link\" href=\"/courses/38716/files/5424241/download?verifier=b3Jmfz6JtVkRXBUQsMpHFuPknPKOuziQDNDnxX9B&amp;wrap=1\" style=\"color: #0000ff;\" title=\"4Ruby-LinearTransformations.R\">4Ruby-LinearTransformations.R</a></span></p>\n",
      "<p><span style=\"color: #0000ff;\"><a class=\"instructure_file_link\" href=\"/courses/38716/files/5463717/download?verifier=6vG9Fot6eH7on3vvOoHGGT8hVbCKZPfz8WwrI8bI&amp;wrap=1\" style=\"color: #0000ff;\" title=\"5M-ContinuousProbability.R\">5M-ContinuousProbability.R</a> <span style=\"color: #000000;\">I</span> <a class=\"instructure_file_link\" href=\"/courses/38716/files/5463716/download?verifier=4VNILUwAwvfsk8xQx8Af3aNv4zJDRNNaBz2CwCvN&amp;wrap=1\" style=\"color: #0000ff;\" title=\"5D-ContinuousModels.R\">5D-ContinuousModels.R</a> <span style=\"color: #000000;\">I</span> <a class=\"instructure_file_link instructure_scribd_file\" href=\"/courses/38716/files/5463713/download?verifier=XJOE0McqDAq6WCV0vIG2uXcSJpTOUztZIhPvkppv&amp;wrap=1\" style=\"background-color: transparent; color: #0000ff; font-family: sans-serif; font-size: 16px; font-style: normal; font-weight: 400; text-align: left; text-decoration: none; text-indent: 0px; white-space: normal;\" title=\"5Ruby-IntegrateNumericalMethods.R\">5Ruby-IntegrateNumericalMethods.R</a></span></p>\n",
      "<p>The scripts use a very limited subset of the R language and avoid fancy software engineering. I hope that they will be accessible even to students who have never programmed in any language. If you learned R in Math 23a, you will find the style familiar but the content almost totally new.</p>\n",
      "<p>Ruby Henry, who teaches the Monday evening section, is creating a set of scripts that use a programming style that should appeal to prospective CS concentrators and to software professionals. Students who want to work with these are encouraged to join the Monday evening section.</p>\n",
      "<p>Here is the first installment of the extra problems required for students who are enrolled in Math E-23c for <strong>graduate credit</strong>. Undergraduates can <strong>substitute these for homework problems</strong>. <span style=\"color: #0000ff;\"> <a class=\"instructure_file_link instructure_scribd_file\" href=\"/courses/38716/files/5274734/download?verifier=aoVXwT56BdXzT8UDXwAOAg3K02967lxbIo4mAqXZ&amp;wrap=1\" style=\"color: #0000ff;\" title=\"DataWrangling-2018.pdf\">DataWrangling-2018.pdf</a></span></p>\n",
      "<p>Here is an updated installment of the extra problems for students with software experience. You can <strong>substitute one of these each week for a homework problem</strong>.  <span style=\"color: #0000ff;\"><a class=\"instructure_file_link instructure_scribd_file\" href=\"/courses/38716/files/5478177/download?verifier=fyVZ2vd6xEpoUy9xEA4VHWWXXfp11DgvHWRnuK1v\" style=\"color: #0000ff;\" title=\"Math 23c -Ruby- Optional Problems.pdf\">Math 23c -Ruby- Optional Problems.pdf</a> </span></p>\n",
      "<hr/></body></html>>\n"
     ]
    }
   ],
   "source": [
    "print(soup.prettify)"
   ]
  },
  {
   "cell_type": "code",
   "execution_count": null,
   "metadata": {
    "collapsed": true
   },
   "outputs": [],
   "source": []
  }
 ],
 "metadata": {
  "kernelspec": {
   "display_name": "Python 3",
   "language": "python",
   "name": "python3"
  },
  "language_info": {
   "codemirror_mode": {
    "name": "ipython",
    "version": 3
   },
   "file_extension": ".py",
   "mimetype": "text/x-python",
   "name": "python",
   "nbconvert_exporter": "python",
   "pygments_lexer": "ipython3",
   "version": "3.6.3"
  }
 },
 "nbformat": 4,
 "nbformat_minor": 2
}
